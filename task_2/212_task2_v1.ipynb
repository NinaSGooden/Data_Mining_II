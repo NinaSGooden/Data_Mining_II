{
 "cells": [
  {
   "cell_type": "code",
   "execution_count": 1,
   "metadata": {},
   "outputs": [],
   "source": [
    "import pandas as pd\n",
    "import numpy as np\n",
    "import seaborn as sns\n",
    "import matplotlib.pyplot as plt\n",
    "from sklearn.decomposition import PCA\n",
    "from sklearn.preprocessing import StandardScaler"
   ]
  },
  {
   "cell_type": "code",
   "execution_count": 2,
   "metadata": {},
   "outputs": [],
   "source": [
    "churn = pd.read_csv('E:/HDD Documents/HDD Documents/School/WGU/churn/churn_clean.csv')"
   ]
  },
  {
   "cell_type": "code",
   "execution_count": 3,
   "metadata": {},
   "outputs": [
    {
     "data": {
      "text/plain": [
       "['Lat',\n",
       " 'Lng',\n",
       " 'Population',\n",
       " 'Children',\n",
       " 'Age',\n",
       " 'Income',\n",
       " 'Outage_sec_perweek',\n",
       " 'Email',\n",
       " 'Contacts',\n",
       " 'Yearly_equip_failure',\n",
       " 'Tenure',\n",
       " 'MonthlyCharge',\n",
       " 'Bandwidth_GB_Year']"
      ]
     },
     "execution_count": 3,
     "metadata": {},
     "output_type": "execute_result"
    }
   ],
   "source": [
    "# define continuous features\n",
    "# start with numerical data\n",
    "# then remove non-continuous data\n",
    "features = churn.select_dtypes(include=['number']).columns.tolist()\n",
    "features.remove('CaseOrder') # id type field, non-continuous\n",
    "features.remove('Zip') # non-continuous\n",
    "features.remove('Item1') # non-continuous\n",
    "features.remove('Item2') # non-continuous\n",
    "features.remove('Item3') # non-continuous\n",
    "features.remove('Item4') # non-continuous\n",
    "features.remove('Item5') # non-continuous\n",
    "features.remove('Item6') # non-continuous\n",
    "features.remove('Item7') # non-continuous\n",
    "features.remove('Item8') # non-continuous\n",
    "features"
   ]
  },
  {
   "cell_type": "code",
   "execution_count": 4,
   "metadata": {},
   "outputs": [
    {
     "name": "stdout",
     "output_type": "stream",
     "text": [
      "                              0          1         2          3          4\n",
      "Lat                      56.251     44.329    45.356     32.967     29.380\n",
      "Lng                    -133.376    -84.241  -123.247   -117.248    -95.807\n",
      "Population               38.000  10446.000  3735.000  13863.000  11352.000\n",
      "Children                  0.000      1.000     4.000      1.000      0.000\n",
      "Age                      68.000     27.000    50.000     48.000     83.000\n",
      "Income                28561.990  21704.770  9609.570  18925.230  40074.190\n",
      "Outage_sec_perweek        7.978     11.699    10.753     14.914      8.147\n",
      "Email                    10.000     12.000     9.000     15.000     16.000\n",
      "Contacts                  0.000      0.000     0.000      2.000      2.000\n",
      "Yearly_equip_failure      1.000      1.000     1.000      0.000      1.000\n",
      "Tenure                    6.796      1.157    15.754     17.087      1.671\n",
      "MonthlyCharge           172.456    242.633   159.948    119.957    149.948\n",
      "Bandwidth_GB_Year       904.536    800.983  2054.707   2164.579    271.493\n",
      "<class 'pandas.core.frame.DataFrame'>\n",
      "RangeIndex: 10000 entries, 0 to 9999\n",
      "Data columns (total 13 columns):\n",
      " #   Column                Non-Null Count  Dtype  \n",
      "---  ------                --------------  -----  \n",
      " 0   Lat                   10000 non-null  float64\n",
      " 1   Lng                   10000 non-null  float64\n",
      " 2   Population            10000 non-null  int64  \n",
      " 3   Children              10000 non-null  int64  \n",
      " 4   Age                   10000 non-null  int64  \n",
      " 5   Income                10000 non-null  float64\n",
      " 6   Outage_sec_perweek    10000 non-null  float64\n",
      " 7   Email                 10000 non-null  int64  \n",
      " 8   Contacts              10000 non-null  int64  \n",
      " 9   Yearly_equip_failure  10000 non-null  int64  \n",
      " 10  Tenure                10000 non-null  float64\n",
      " 11  MonthlyCharge         10000 non-null  float64\n",
      " 12  Bandwidth_GB_Year     10000 non-null  float64\n",
      "dtypes: float64(7), int64(6)\n",
      "memory usage: 1015.8 KB\n",
      "None\n",
      "(10000, 13)\n"
     ]
    }
   ],
   "source": [
    "df = pd.DataFrame(churn,columns=features)\n",
    "print(df.head().round(3).T)\n",
    "print(df.info())\n",
    "print(df.shape)"
   ]
  },
  {
   "cell_type": "code",
   "execution_count": 5,
   "metadata": {},
   "outputs": [
    {
     "name": "stdout",
     "output_type": "stream",
     "text": [
      "                          0      1      2      3      4\n",
      "Lat                   3.217  1.025  1.214 -1.065 -1.725\n",
      "Lng                  -2.810  0.432 -2.142 -1.746 -0.332\n",
      "Population           -0.673  0.048 -0.417  0.285  0.111\n",
      "Children             -0.972 -0.507  0.891 -0.507 -0.972\n",
      "Age                   0.721 -1.260 -0.149 -0.245  1.446\n",
      "Income               -0.399 -0.642 -1.071 -0.741  0.009\n",
      "Outage_sec_perweek   -0.680  0.570  0.252  1.651 -0.623\n",
      "Email                -0.666 -0.005 -0.997  0.986  1.317\n",
      "Contacts             -1.006 -1.006 -1.006  1.018  1.018\n",
      "Yearly_equip_failure  0.947  0.947  0.947 -0.626  0.947\n",
      "Tenure               -1.049 -1.262 -0.710 -0.660 -1.243\n",
      "MonthlyCharge        -0.004  1.630 -0.295 -1.227 -0.528\n",
      "Bandwidth_GB_Year    -1.138 -1.186 -0.612 -0.562 -1.428\n",
      "<class 'pandas.core.frame.DataFrame'>\n",
      "RangeIndex: 10000 entries, 0 to 9999\n",
      "Data columns (total 13 columns):\n",
      " #   Column                Non-Null Count  Dtype  \n",
      "---  ------                --------------  -----  \n",
      " 0   Lat                   10000 non-null  float64\n",
      " 1   Lng                   10000 non-null  float64\n",
      " 2   Population            10000 non-null  float64\n",
      " 3   Children              10000 non-null  float64\n",
      " 4   Age                   10000 non-null  float64\n",
      " 5   Income                10000 non-null  float64\n",
      " 6   Outage_sec_perweek    10000 non-null  float64\n",
      " 7   Email                 10000 non-null  float64\n",
      " 8   Contacts              10000 non-null  float64\n",
      " 9   Yearly_equip_failure  10000 non-null  float64\n",
      " 10  Tenure                10000 non-null  float64\n",
      " 11  MonthlyCharge         10000 non-null  float64\n",
      " 12  Bandwidth_GB_Year     10000 non-null  float64\n",
      "dtypes: float64(13)\n",
      "memory usage: 1015.8 KB\n",
      "None\n",
      "(10000, 13)\n"
     ]
    }
   ],
   "source": [
    "scaler = StandardScaler()\n",
    "scaler.fit(df)\n",
    "scaled_df = pd.DataFrame(scaler.transform(df), columns = features)\n",
    "print(scaled_df.head().round(3).T)\n",
    "print(scaled_df.info())\n",
    "print(scaled_df.shape)"
   ]
  },
  {
   "cell_type": "code",
   "execution_count": 6,
   "metadata": {},
   "outputs": [
    {
     "name": "stdout",
     "output_type": "stream",
     "text": [
      "[[-1.63263488 -3.29635409  0.57818418 ...  0.01470108  0.70379222\n",
      "  -0.02556163]\n",
      " [-1.67888952 -0.66379299 -0.16526261 ... -1.46285917  0.92739224\n",
      "  -0.03690825]\n",
      " [-0.94798506 -1.6621073   1.50054206 ...  0.72990114 -0.25927031\n",
      "   0.0603088 ]\n",
      " ...\n",
      " [ 0.58345317 -0.27778175  0.76059769 ... -0.28768661 -1.01593756\n",
      "  -0.08826337]\n",
      " [ 2.03631986  2.00793622 -0.95591075 ... -0.63146318  0.64022982\n",
      "  -0.06961958]\n",
      " [ 1.57452062  0.96794063 -0.79444654 ... -1.26424798 -0.15401524\n",
      "  -0.03415051]]\n"
     ]
    }
   ],
   "source": [
    "# PCA(n_components = 13)\n",
    "pca = PCA(n_components=13) \n",
    "pca.fit(scaled_df)\n",
    "pc = pca.transform(scaled_df)\n",
    "per_var = np.round(pca.explained_variance_ratio_*100,decimals=1)\n",
    "pc_labels = ['PC' + str(x) for x in range(1,len(per_var)+1)]\n",
    "print(pc)"
   ]
  },
  {
   "cell_type": "code",
   "execution_count": 7,
   "metadata": {},
   "outputs": [
    {
     "name": "stdout",
     "output_type": "stream",
     "text": [
      "           PC1       PC2       PC3       PC4       PC5       PC6       PC7  \\\n",
      "0    -1.632635 -3.296354  0.578184  2.947064  0.049200  0.236283 -1.239584   \n",
      "1    -1.678890 -0.663793 -0.165263 -0.587533 -0.864341  1.227328 -1.145874   \n",
      "2    -0.947985 -1.662107  1.500542  1.260078 -0.604303  1.120935 -1.470020   \n",
      "3    -0.928918  0.883883 -0.255494  1.343020 -1.897874  0.114564  0.424392   \n",
      "4    -1.889784  1.581549 -0.992000  0.972279  1.138263 -0.503190 -0.011660   \n",
      "...        ...       ...       ...       ...       ...       ...       ...   \n",
      "9995  1.883026 -0.917225  0.119696 -1.368667 -0.215508 -0.483779  1.335592   \n",
      "9996  1.468912  3.517718  0.444508  0.815071 -1.000443 -0.606728  0.790954   \n",
      "9997  0.583453 -0.277782  0.760598  0.478853  0.423992 -0.918188 -0.197058   \n",
      "9998  2.036320  2.007936 -0.955911 -0.130067 -1.730513  0.281978 -0.288711   \n",
      "9999  1.574521  0.967941 -0.794447 -0.841324 -1.957076 -0.529423 -0.461146   \n",
      "\n",
      "           PC8       PC9      PC10      PC11      PC12      PC13  \n",
      "0     0.694516  0.630699  0.126840  0.014701  0.703792 -0.025562  \n",
      "1     1.079940 -0.122828  0.062935 -1.462859  0.927392 -0.036908  \n",
      "2    -0.081259  0.009108  0.484669  0.729901 -0.259270  0.060309  \n",
      "3    -1.721621  0.296289 -0.700928  0.262978 -1.253845  0.127564  \n",
      "4    -0.813185  1.456770  0.191183 -0.479151 -1.201817 -0.058608  \n",
      "...        ...       ...       ...       ...       ...       ...  \n",
      "9995 -0.760748 -0.713339  0.309577 -0.617506  0.678582  0.082947  \n",
      "9996  0.434722  0.276539  1.907382  0.383783  2.803534 -0.025294  \n",
      "9997  0.968909 -0.822408 -0.215000 -0.287687 -1.015938 -0.088263  \n",
      "9998  1.012659 -0.320503  0.318211 -0.631463  0.640230 -0.069620  \n",
      "9999  0.052044  0.171791  0.016842 -1.264248 -0.154015 -0.034151  \n",
      "\n",
      "[10000 rows x 13 columns]\n"
     ]
    }
   ],
   "source": [
    "# create dataframe of principal components\n",
    "pc_df = pd.DataFrame(pc, columns=pc_labels)\n",
    "print(pc_df)"
   ]
  },
  {
   "cell_type": "code",
   "execution_count": 8,
   "metadata": {},
   "outputs": [
    {
     "data": {
      "text/html": [
       "<div>\n",
       "<style scoped>\n",
       "    .dataframe tbody tr th:only-of-type {\n",
       "        vertical-align: middle;\n",
       "    }\n",
       "\n",
       "    .dataframe tbody tr th {\n",
       "        vertical-align: top;\n",
       "    }\n",
       "\n",
       "    .dataframe thead th {\n",
       "        text-align: right;\n",
       "    }\n",
       "</style>\n",
       "<table border=\"1\" class=\"dataframe\">\n",
       "  <thead>\n",
       "    <tr style=\"text-align: right;\">\n",
       "      <th></th>\n",
       "      <th>PC1</th>\n",
       "      <th>PC2</th>\n",
       "      <th>PC3</th>\n",
       "      <th>PC4</th>\n",
       "      <th>PC5</th>\n",
       "      <th>PC6</th>\n",
       "      <th>PC7</th>\n",
       "      <th>PC8</th>\n",
       "      <th>PC9</th>\n",
       "      <th>PC10</th>\n",
       "      <th>PC11</th>\n",
       "      <th>PC12</th>\n",
       "      <th>PC13</th>\n",
       "    </tr>\n",
       "  </thead>\n",
       "  <tbody>\n",
       "    <tr>\n",
       "      <th>Lat</th>\n",
       "      <td>-0.023161</td>\n",
       "      <td>-0.714010</td>\n",
       "      <td>-0.031715</td>\n",
       "      <td>0.109414</td>\n",
       "      <td>-0.094872</td>\n",
       "      <td>-0.030887</td>\n",
       "      <td>-0.010719</td>\n",
       "      <td>-0.020375</td>\n",
       "      <td>0.090273</td>\n",
       "      <td>0.018619</td>\n",
       "      <td>0.053958</td>\n",
       "      <td>0.674376</td>\n",
       "      <td>0.001077</td>\n",
       "    </tr>\n",
       "    <tr>\n",
       "      <th>Lng</th>\n",
       "      <td>0.007911</td>\n",
       "      <td>0.180879</td>\n",
       "      <td>-0.285753</td>\n",
       "      <td>-0.736871</td>\n",
       "      <td>0.344620</td>\n",
       "      <td>-0.087695</td>\n",
       "      <td>-0.052349</td>\n",
       "      <td>-0.086499</td>\n",
       "      <td>-0.172285</td>\n",
       "      <td>-0.151301</td>\n",
       "      <td>-0.112280</td>\n",
       "      <td>0.375138</td>\n",
       "      <td>0.000788</td>\n",
       "    </tr>\n",
       "    <tr>\n",
       "      <th>Population</th>\n",
       "      <td>-0.001230</td>\n",
       "      <td>0.653439</td>\n",
       "      <td>0.151916</td>\n",
       "      <td>0.322012</td>\n",
       "      <td>-0.119517</td>\n",
       "      <td>0.098791</td>\n",
       "      <td>0.053682</td>\n",
       "      <td>0.079161</td>\n",
       "      <td>-0.027392</td>\n",
       "      <td>0.055304</td>\n",
       "      <td>0.100818</td>\n",
       "      <td>0.631729</td>\n",
       "      <td>-0.000070</td>\n",
       "    </tr>\n",
       "    <tr>\n",
       "      <th>Children</th>\n",
       "      <td>0.014244</td>\n",
       "      <td>-0.014267</td>\n",
       "      <td>0.447882</td>\n",
       "      <td>-0.464670</td>\n",
       "      <td>-0.107498</td>\n",
       "      <td>0.130597</td>\n",
       "      <td>0.034812</td>\n",
       "      <td>-0.065531</td>\n",
       "      <td>0.192459</td>\n",
       "      <td>0.437471</td>\n",
       "      <td>0.565626</td>\n",
       "      <td>-0.011794</td>\n",
       "      <td>-0.021597</td>\n",
       "    </tr>\n",
       "    <tr>\n",
       "      <th>Age</th>\n",
       "      <td>0.001860</td>\n",
       "      <td>0.052795</td>\n",
       "      <td>-0.443537</td>\n",
       "      <td>0.227235</td>\n",
       "      <td>0.436759</td>\n",
       "      <td>-0.096321</td>\n",
       "      <td>-0.188399</td>\n",
       "      <td>0.093484</td>\n",
       "      <td>0.342892</td>\n",
       "      <td>-0.083596</td>\n",
       "      <td>0.614892</td>\n",
       "      <td>-0.037729</td>\n",
       "      <td>0.022360</td>\n",
       "    </tr>\n",
       "    <tr>\n",
       "      <th>Income</th>\n",
       "      <td>0.004185</td>\n",
       "      <td>-0.054602</td>\n",
       "      <td>0.195742</td>\n",
       "      <td>-0.041772</td>\n",
       "      <td>0.312779</td>\n",
       "      <td>0.100371</td>\n",
       "      <td>0.773549</td>\n",
       "      <td>0.335467</td>\n",
       "      <td>0.246663</td>\n",
       "      <td>-0.275852</td>\n",
       "      <td>-0.033742</td>\n",
       "      <td>0.006645</td>\n",
       "      <td>-0.000941</td>\n",
       "    </tr>\n",
       "    <tr>\n",
       "      <th>Outage_sec_perweek</th>\n",
       "      <td>0.005811</td>\n",
       "      <td>0.009174</td>\n",
       "      <td>-0.249550</td>\n",
       "      <td>-0.126214</td>\n",
       "      <td>-0.455981</td>\n",
       "      <td>0.597523</td>\n",
       "      <td>0.051915</td>\n",
       "      <td>-0.184658</td>\n",
       "      <td>0.057056</td>\n",
       "      <td>-0.515406</td>\n",
       "      <td>0.223304</td>\n",
       "      <td>-0.034155</td>\n",
       "      <td>0.000271</td>\n",
       "    </tr>\n",
       "    <tr>\n",
       "      <th>Email</th>\n",
       "      <td>-0.020020</td>\n",
       "      <td>0.152355</td>\n",
       "      <td>-0.092711</td>\n",
       "      <td>-0.144998</td>\n",
       "      <td>-0.353186</td>\n",
       "      <td>-0.403463</td>\n",
       "      <td>0.003835</td>\n",
       "      <td>-0.125375</td>\n",
       "      <td>0.760622</td>\n",
       "      <td>-0.052146</td>\n",
       "      <td>-0.247985</td>\n",
       "      <td>0.027357</td>\n",
       "      <td>0.000274</td>\n",
       "    </tr>\n",
       "    <tr>\n",
       "      <th>Contacts</th>\n",
       "      <td>0.004283</td>\n",
       "      <td>0.031043</td>\n",
       "      <td>-0.447906</td>\n",
       "      <td>0.108875</td>\n",
       "      <td>0.011245</td>\n",
       "      <td>0.082442</td>\n",
       "      <td>0.519791</td>\n",
       "      <td>-0.510974</td>\n",
       "      <td>-0.052695</td>\n",
       "      <td>0.494601</td>\n",
       "      <td>-0.028194</td>\n",
       "      <td>-0.011878</td>\n",
       "      <td>-0.000947</td>\n",
       "    </tr>\n",
       "    <tr>\n",
       "      <th>Yearly_equip_failure</th>\n",
       "      <td>0.017665</td>\n",
       "      <td>-0.007070</td>\n",
       "      <td>0.153686</td>\n",
       "      <td>0.063449</td>\n",
       "      <td>0.420468</td>\n",
       "      <td>0.592380</td>\n",
       "      <td>-0.290766</td>\n",
       "      <td>-0.194665</td>\n",
       "      <td>0.397088</td>\n",
       "      <td>0.143419</td>\n",
       "      <td>-0.376943</td>\n",
       "      <td>0.038880</td>\n",
       "      <td>-0.000083</td>\n",
       "    </tr>\n",
       "    <tr>\n",
       "      <th>Tenure</th>\n",
       "      <td>0.705211</td>\n",
       "      <td>-0.008913</td>\n",
       "      <td>0.006569</td>\n",
       "      <td>0.026652</td>\n",
       "      <td>0.009197</td>\n",
       "      <td>-0.036725</td>\n",
       "      <td>-0.002190</td>\n",
       "      <td>-0.038433</td>\n",
       "      <td>0.003806</td>\n",
       "      <td>-0.037339</td>\n",
       "      <td>0.005491</td>\n",
       "      <td>0.010393</td>\n",
       "      <td>-0.705254</td>\n",
       "    </tr>\n",
       "    <tr>\n",
       "      <th>MonthlyCharge</th>\n",
       "      <td>0.040456</td>\n",
       "      <td>-0.004500</td>\n",
       "      <td>-0.404228</td>\n",
       "      <td>-0.136041</td>\n",
       "      <td>-0.218356</td>\n",
       "      <td>0.257205</td>\n",
       "      <td>-0.041495</td>\n",
       "      <td>0.714123</td>\n",
       "      <td>0.060669</td>\n",
       "      <td>0.405280</td>\n",
       "      <td>-0.144376</td>\n",
       "      <td>-0.006021</td>\n",
       "      <td>-0.045766</td>\n",
       "    </tr>\n",
       "    <tr>\n",
       "      <th>Bandwidth_GB_Year</th>\n",
       "      <td>0.706719</td>\n",
       "      <td>-0.010435</td>\n",
       "      <td>0.008289</td>\n",
       "      <td>-0.002713</td>\n",
       "      <td>-0.021522</td>\n",
       "      <td>-0.012558</td>\n",
       "      <td>0.003902</td>\n",
       "      <td>0.002926</td>\n",
       "      <td>0.002798</td>\n",
       "      <td>0.005673</td>\n",
       "      <td>-0.006102</td>\n",
       "      <td>0.009429</td>\n",
       "      <td>0.706791</td>\n",
       "    </tr>\n",
       "  </tbody>\n",
       "</table>\n",
       "</div>"
      ],
      "text/plain": [
       "                           PC1       PC2       PC3       PC4       PC5  \\\n",
       "Lat                  -0.023161 -0.714010 -0.031715  0.109414 -0.094872   \n",
       "Lng                   0.007911  0.180879 -0.285753 -0.736871  0.344620   \n",
       "Population           -0.001230  0.653439  0.151916  0.322012 -0.119517   \n",
       "Children              0.014244 -0.014267  0.447882 -0.464670 -0.107498   \n",
       "Age                   0.001860  0.052795 -0.443537  0.227235  0.436759   \n",
       "Income                0.004185 -0.054602  0.195742 -0.041772  0.312779   \n",
       "Outage_sec_perweek    0.005811  0.009174 -0.249550 -0.126214 -0.455981   \n",
       "Email                -0.020020  0.152355 -0.092711 -0.144998 -0.353186   \n",
       "Contacts              0.004283  0.031043 -0.447906  0.108875  0.011245   \n",
       "Yearly_equip_failure  0.017665 -0.007070  0.153686  0.063449  0.420468   \n",
       "Tenure                0.705211 -0.008913  0.006569  0.026652  0.009197   \n",
       "MonthlyCharge         0.040456 -0.004500 -0.404228 -0.136041 -0.218356   \n",
       "Bandwidth_GB_Year     0.706719 -0.010435  0.008289 -0.002713 -0.021522   \n",
       "\n",
       "                           PC6       PC7       PC8       PC9      PC10  \\\n",
       "Lat                  -0.030887 -0.010719 -0.020375  0.090273  0.018619   \n",
       "Lng                  -0.087695 -0.052349 -0.086499 -0.172285 -0.151301   \n",
       "Population            0.098791  0.053682  0.079161 -0.027392  0.055304   \n",
       "Children              0.130597  0.034812 -0.065531  0.192459  0.437471   \n",
       "Age                  -0.096321 -0.188399  0.093484  0.342892 -0.083596   \n",
       "Income                0.100371  0.773549  0.335467  0.246663 -0.275852   \n",
       "Outage_sec_perweek    0.597523  0.051915 -0.184658  0.057056 -0.515406   \n",
       "Email                -0.403463  0.003835 -0.125375  0.760622 -0.052146   \n",
       "Contacts              0.082442  0.519791 -0.510974 -0.052695  0.494601   \n",
       "Yearly_equip_failure  0.592380 -0.290766 -0.194665  0.397088  0.143419   \n",
       "Tenure               -0.036725 -0.002190 -0.038433  0.003806 -0.037339   \n",
       "MonthlyCharge         0.257205 -0.041495  0.714123  0.060669  0.405280   \n",
       "Bandwidth_GB_Year    -0.012558  0.003902  0.002926  0.002798  0.005673   \n",
       "\n",
       "                          PC11      PC12      PC13  \n",
       "Lat                   0.053958  0.674376  0.001077  \n",
       "Lng                  -0.112280  0.375138  0.000788  \n",
       "Population            0.100818  0.631729 -0.000070  \n",
       "Children              0.565626 -0.011794 -0.021597  \n",
       "Age                   0.614892 -0.037729  0.022360  \n",
       "Income               -0.033742  0.006645 -0.000941  \n",
       "Outage_sec_perweek    0.223304 -0.034155  0.000271  \n",
       "Email                -0.247985  0.027357  0.000274  \n",
       "Contacts             -0.028194 -0.011878 -0.000947  \n",
       "Yearly_equip_failure -0.376943  0.038880 -0.000083  \n",
       "Tenure                0.005491  0.010393 -0.705254  \n",
       "MonthlyCharge        -0.144376 -0.006021 -0.045766  \n",
       "Bandwidth_GB_Year    -0.006102  0.009429  0.706791  "
      ]
     },
     "execution_count": 8,
     "metadata": {},
     "output_type": "execute_result"
    }
   ],
   "source": [
    "# create dataframe of loadings\n",
    "load = pd.DataFrame(pca.components_.T,\n",
    "                    columns = pc_labels,\n",
    "                    index=df.columns)\n",
    "load"
   ]
  },
  {
   "cell_type": "code",
   "execution_count": 9,
   "metadata": {},
   "outputs": [
    {
     "name": "stdout",
     "output_type": "stream",
     "text": [
      "Variance explained by all 13 principal components = 100.0\n"
     ]
    }
   ],
   "source": [
    "\n",
    "# print total explained variance for all 13 principal components\n",
    "print('Variance explained by all 13 principal components =', \n",
    "      sum(pca.explained_variance_ratio_*100).round(3))"
   ]
  },
  {
   "cell_type": "code",
   "execution_count": 10,
   "metadata": {},
   "outputs": [
    {
     "data": {
      "text/plain": [
       "array([15.34388817,  9.49252346,  8.10511076,  8.03530799,  7.87065959,\n",
       "        7.77446725,  7.68617423,  7.63519934,  7.57255848,  7.39838628,\n",
       "        7.38768662,  5.65599547,  0.04204237])"
      ]
     },
     "execution_count": 10,
     "metadata": {},
     "output_type": "execute_result"
    }
   ],
   "source": [
    "# explained explained variance for each\n",
    "pca.explained_variance_ratio_ * 100"
   ]
  },
  {
   "cell_type": "code",
   "execution_count": 11,
   "metadata": {},
   "outputs": [
    {
     "data": {
      "text/html": [
       "<div>\n",
       "<style scoped>\n",
       "    .dataframe tbody tr th:only-of-type {\n",
       "        vertical-align: middle;\n",
       "    }\n",
       "\n",
       "    .dataframe tbody tr th {\n",
       "        vertical-align: top;\n",
       "    }\n",
       "\n",
       "    .dataframe thead th {\n",
       "        text-align: right;\n",
       "    }\n",
       "</style>\n",
       "<table border=\"1\" class=\"dataframe\">\n",
       "  <thead>\n",
       "    <tr style=\"text-align: right;\">\n",
       "      <th></th>\n",
       "      <th>Captured variance per PC</th>\n",
       "    </tr>\n",
       "  </thead>\n",
       "  <tbody>\n",
       "    <tr>\n",
       "      <th>PC1</th>\n",
       "      <td>15.34</td>\n",
       "    </tr>\n",
       "    <tr>\n",
       "      <th>PC2</th>\n",
       "      <td>9.49</td>\n",
       "    </tr>\n",
       "    <tr>\n",
       "      <th>PC3</th>\n",
       "      <td>8.11</td>\n",
       "    </tr>\n",
       "    <tr>\n",
       "      <th>PC4</th>\n",
       "      <td>8.04</td>\n",
       "    </tr>\n",
       "    <tr>\n",
       "      <th>PC5</th>\n",
       "      <td>7.87</td>\n",
       "    </tr>\n",
       "    <tr>\n",
       "      <th>PC6</th>\n",
       "      <td>7.77</td>\n",
       "    </tr>\n",
       "    <tr>\n",
       "      <th>PC7</th>\n",
       "      <td>7.69</td>\n",
       "    </tr>\n",
       "    <tr>\n",
       "      <th>PC8</th>\n",
       "      <td>7.64</td>\n",
       "    </tr>\n",
       "    <tr>\n",
       "      <th>PC9</th>\n",
       "      <td>7.57</td>\n",
       "    </tr>\n",
       "    <tr>\n",
       "      <th>PC10</th>\n",
       "      <td>7.40</td>\n",
       "    </tr>\n",
       "    <tr>\n",
       "      <th>PC11</th>\n",
       "      <td>7.39</td>\n",
       "    </tr>\n",
       "    <tr>\n",
       "      <th>PC12</th>\n",
       "      <td>5.66</td>\n",
       "    </tr>\n",
       "    <tr>\n",
       "      <th>PC13</th>\n",
       "      <td>0.04</td>\n",
       "    </tr>\n",
       "  </tbody>\n",
       "</table>\n",
       "</div>"
      ],
      "text/plain": [
       "      Captured variance per PC\n",
       "PC1                      15.34\n",
       "PC2                       9.49\n",
       "PC3                       8.11\n",
       "PC4                       8.04\n",
       "PC5                       7.87\n",
       "PC6                       7.77\n",
       "PC7                       7.69\n",
       "PC8                       7.64\n",
       "PC9                       7.57\n",
       "PC10                      7.40\n",
       "PC11                      7.39\n",
       "PC12                      5.66\n",
       "PC13                      0.04"
      ]
     },
     "execution_count": 11,
     "metadata": {},
     "output_type": "execute_result"
    }
   ],
   "source": [
    "# captured variance per PC\n",
    "varex1 = pca.explained_variance_ratio_*100\n",
    "var_df1 = pd.DataFrame(varex1.round(2), \n",
    "            columns=['Captured variance per PC'],\n",
    "                 index = pc_labels)\n",
    "var_df1"
   ]
  },
  {
   "cell_type": "code",
   "execution_count": 12,
   "metadata": {},
   "outputs": [
    {
     "data": {
      "text/html": [
       "<div>\n",
       "<style scoped>\n",
       "    .dataframe tbody tr th:only-of-type {\n",
       "        vertical-align: middle;\n",
       "    }\n",
       "\n",
       "    .dataframe tbody tr th {\n",
       "        vertical-align: top;\n",
       "    }\n",
       "\n",
       "    .dataframe thead th {\n",
       "        text-align: right;\n",
       "    }\n",
       "</style>\n",
       "<table border=\"1\" class=\"dataframe\">\n",
       "  <thead>\n",
       "    <tr style=\"text-align: right;\">\n",
       "      <th></th>\n",
       "      <th>Eigenvalues per PC</th>\n",
       "    </tr>\n",
       "  </thead>\n",
       "  <tbody>\n",
       "    <tr>\n",
       "      <th>PC1</th>\n",
       "      <td>1.9949</td>\n",
       "    </tr>\n",
       "    <tr>\n",
       "      <th>PC2</th>\n",
       "      <td>1.2342</td>\n",
       "    </tr>\n",
       "    <tr>\n",
       "      <th>PC3</th>\n",
       "      <td>1.0538</td>\n",
       "    </tr>\n",
       "    <tr>\n",
       "      <th>PC4</th>\n",
       "      <td>1.0447</td>\n",
       "    </tr>\n",
       "    <tr>\n",
       "      <th>PC5</th>\n",
       "      <td>1.0233</td>\n",
       "    </tr>\n",
       "    <tr>\n",
       "      <th>PC6</th>\n",
       "      <td>1.0108</td>\n",
       "    </tr>\n",
       "    <tr>\n",
       "      <th>PC7</th>\n",
       "      <td>0.9993</td>\n",
       "    </tr>\n",
       "    <tr>\n",
       "      <th>PC8</th>\n",
       "      <td>0.9927</td>\n",
       "    </tr>\n",
       "    <tr>\n",
       "      <th>PC9</th>\n",
       "      <td>0.9845</td>\n",
       "    </tr>\n",
       "    <tr>\n",
       "      <th>PC10</th>\n",
       "      <td>0.9619</td>\n",
       "    </tr>\n",
       "    <tr>\n",
       "      <th>PC11</th>\n",
       "      <td>0.9605</td>\n",
       "    </tr>\n",
       "    <tr>\n",
       "      <th>PC12</th>\n",
       "      <td>0.7354</td>\n",
       "    </tr>\n",
       "    <tr>\n",
       "      <th>PC13</th>\n",
       "      <td>0.0055</td>\n",
       "    </tr>\n",
       "  </tbody>\n",
       "</table>\n",
       "</div>"
      ],
      "text/plain": [
       "      Eigenvalues per PC\n",
       "PC1               1.9949\n",
       "PC2               1.2342\n",
       "PC3               1.0538\n",
       "PC4               1.0447\n",
       "PC5               1.0233\n",
       "PC6               1.0108\n",
       "PC7               0.9993\n",
       "PC8               0.9927\n",
       "PC9               0.9845\n",
       "PC10              0.9619\n",
       "PC11              0.9605\n",
       "PC12              0.7354\n",
       "PC13              0.0055"
      ]
     },
     "execution_count": 12,
     "metadata": {},
     "output_type": "execute_result"
    }
   ],
   "source": [
    "# eigenvalues per PC\n",
    "eigenvalues = pca.explained_variance_\n",
    "eigen_df = pd.DataFrame(eigenvalues.round(4),\n",
    "            columns=['Eigenvalues per PC'],\n",
    "            index = pc_labels)\n",
    "eigen_df"
   ]
  },
  {
   "cell_type": "code",
   "execution_count": 13,
   "metadata": {},
   "outputs": [
    {
     "data": {
      "text/plain": [
       "array([ 15.34388817,  24.83641162,  32.94152239,  40.97683038,\n",
       "        48.84748997,  56.62195722,  64.30813145,  71.94333079,\n",
       "        79.51588927,  86.91427555,  94.30196216,  99.95795763,\n",
       "       100.        ])"
      ]
     },
     "execution_count": 13,
     "metadata": {},
     "output_type": "execute_result"
    }
   ],
   "source": [
    "# cumulative sum\n",
    "np.cumsum(pca.explained_variance_ratio_*100)"
   ]
  },
  {
   "cell_type": "code",
   "execution_count": 14,
   "metadata": {},
   "outputs": [
    {
     "data": {
      "image/png": "[encoded data removed]",
      "text/plain": [
       "<Figure size 1000x800 with 1 Axes>"
      ]
     },
     "metadata": {},
     "output_type": "display_data"
    }
   ],
   "source": [
    "# scree plot \n",
    "fig, ax = plt.subplots(figsize =(10, 8))\n",
    "plt.plot(np.cumsum(pca.explained_variance_ratio_))\n",
    "plt.title('Scree Plot (All PCs)')\n",
    "plt.xlabel('Number of Components')\n",
    "plt.ylabel('Cumulative Explained Variance')\n",
    "ax.set_xticks(range(0,13))\n",
    "ax.set_xticklabels(pc_labels)\n",
    "plt.axhline(y = .95, color='k', linestyle='--', label = '95% Variance')\n",
    "plt.axhline(y = .90, color='c', linestyle='--', label = '90% Variance')\n",
    "plt.axhline(y = .85, color='r', linestyle='--', label = '85% Variance')\n",
    "plt.legend(loc='best')\n",
    "plt.show()"
   ]
  },
  {
   "cell_type": "code",
   "execution_count": 15,
   "metadata": {},
   "outputs": [
    {
     "name": "stdout",
     "output_type": "stream",
     "text": [
      "[[-1.63263488 -3.29635409  0.57818418  2.9470639   0.04919956  0.23628275]\n",
      " [-1.67888952 -0.66379299 -0.16526261 -0.58753284 -0.86434097  1.2273278 ]\n",
      " [-0.94798506 -1.6621073   1.50054206  1.26007828 -0.60430283  1.12093466]\n",
      " ...\n",
      " [ 0.58345317 -0.27778175  0.76059769  0.47885258  0.42399214 -0.91818774]\n",
      " [ 2.03631986  2.00793622 -0.95591075 -0.13006707 -1.73051332  0.2819779 ]\n",
      " [ 1.57452062  0.96794063 -0.79444654 -0.84132395 -1.9570759  -0.52942312]]\n"
     ]
    }
   ],
   "source": [
    "#PCA(n_components=6)\n",
    "pca = PCA(n_components=6).fit(scaled_df)\n",
    "pc = pca.transform(scaled_df)\n",
    "per_var = np.round(pca.explained_variance_ratio_*100,decimals=1)\n",
    "pc_labels = ['PC' + str(x) for x in range(1,len(per_var)+1)]\n",
    "print(pc)"
   ]
  },
  {
   "cell_type": "code",
   "execution_count": 16,
   "metadata": {},
   "outputs": [
    {
     "name": "stdout",
     "output_type": "stream",
     "text": [
      "[15.344  9.493  8.105  8.035  7.871  7.774]\n",
      "[15.344 24.836 32.942 40.977 48.847 56.622]\n"
     ]
    }
   ],
   "source": [
    "print((pca.explained_variance_ratio_*100).round(3))\n",
    "print((np.cumsum(pca.explained_variance_ratio_*100).round(3)))"
   ]
  },
  {
   "cell_type": "code",
   "execution_count": 17,
   "metadata": {},
   "outputs": [
    {
     "name": "stdout",
     "output_type": "stream",
     "text": [
      "           PC1       PC2       PC3       PC4       PC5       PC6\n",
      "0    -1.632635 -3.296354  0.578184  2.947064  0.049200  0.236283\n",
      "1    -1.678890 -0.663793 -0.165263 -0.587533 -0.864341  1.227328\n",
      "2    -0.947985 -1.662107  1.500542  1.260078 -0.604303  1.120935\n",
      "3    -0.928918  0.883883 -0.255494  1.343020 -1.897874  0.114564\n",
      "4    -1.889784  1.581549 -0.992000  0.972279  1.138263 -0.503190\n",
      "...        ...       ...       ...       ...       ...       ...\n",
      "9995  1.883026 -0.917225  0.119696 -1.368667 -0.215508 -0.483779\n",
      "9996  1.468912  3.517718  0.444508  0.815071 -1.000443 -0.606728\n",
      "9997  0.583453 -0.277782  0.760598  0.478853  0.423992 -0.918188\n",
      "9998  2.036320  2.007936 -0.955911 -0.130067 -1.730513  0.281978\n",
      "9999  1.574521  0.967941 -0.794447 -0.841324 -1.957076 -0.529423\n",
      "\n",
      "[10000 rows x 6 columns]\n"
     ]
    }
   ],
   "source": [
    "# create dataframe of principal components\n",
    "pc_df = pd.DataFrame(pc, columns=pc_labels)\n",
    "print(pc_df)"
   ]
  },
  {
   "cell_type": "code",
   "execution_count": 18,
   "metadata": {},
   "outputs": [
    {
     "data": {
      "text/html": [
       "<div>\n",
       "<style scoped>\n",
       "    .dataframe tbody tr th:only-of-type {\n",
       "        vertical-align: middle;\n",
       "    }\n",
       "\n",
       "    .dataframe tbody tr th {\n",
       "        vertical-align: top;\n",
       "    }\n",
       "\n",
       "    .dataframe thead th {\n",
       "        text-align: right;\n",
       "    }\n",
       "</style>\n",
       "<table border=\"1\" class=\"dataframe\">\n",
       "  <thead>\n",
       "    <tr style=\"text-align: right;\">\n",
       "      <th></th>\n",
       "      <th>PC1</th>\n",
       "      <th>PC2</th>\n",
       "      <th>PC3</th>\n",
       "      <th>PC4</th>\n",
       "      <th>PC5</th>\n",
       "      <th>PC6</th>\n",
       "    </tr>\n",
       "  </thead>\n",
       "  <tbody>\n",
       "    <tr>\n",
       "      <th>Lat</th>\n",
       "      <td>-0.023161</td>\n",
       "      <td>-0.714010</td>\n",
       "      <td>-0.031715</td>\n",
       "      <td>0.109414</td>\n",
       "      <td>-0.094872</td>\n",
       "      <td>-0.030887</td>\n",
       "    </tr>\n",
       "    <tr>\n",
       "      <th>Lng</th>\n",
       "      <td>0.007911</td>\n",
       "      <td>0.180879</td>\n",
       "      <td>-0.285753</td>\n",
       "      <td>-0.736871</td>\n",
       "      <td>0.344620</td>\n",
       "      <td>-0.087695</td>\n",
       "    </tr>\n",
       "    <tr>\n",
       "      <th>Population</th>\n",
       "      <td>-0.001230</td>\n",
       "      <td>0.653439</td>\n",
       "      <td>0.151916</td>\n",
       "      <td>0.322012</td>\n",
       "      <td>-0.119517</td>\n",
       "      <td>0.098791</td>\n",
       "    </tr>\n",
       "    <tr>\n",
       "      <th>Children</th>\n",
       "      <td>0.014244</td>\n",
       "      <td>-0.014267</td>\n",
       "      <td>0.447882</td>\n",
       "      <td>-0.464670</td>\n",
       "      <td>-0.107498</td>\n",
       "      <td>0.130597</td>\n",
       "    </tr>\n",
       "    <tr>\n",
       "      <th>Age</th>\n",
       "      <td>0.001860</td>\n",
       "      <td>0.052795</td>\n",
       "      <td>-0.443537</td>\n",
       "      <td>0.227235</td>\n",
       "      <td>0.436759</td>\n",
       "      <td>-0.096321</td>\n",
       "    </tr>\n",
       "    <tr>\n",
       "      <th>Income</th>\n",
       "      <td>0.004185</td>\n",
       "      <td>-0.054602</td>\n",
       "      <td>0.195742</td>\n",
       "      <td>-0.041772</td>\n",
       "      <td>0.312779</td>\n",
       "      <td>0.100371</td>\n",
       "    </tr>\n",
       "    <tr>\n",
       "      <th>Outage_sec_perweek</th>\n",
       "      <td>0.005811</td>\n",
       "      <td>0.009174</td>\n",
       "      <td>-0.249550</td>\n",
       "      <td>-0.126214</td>\n",
       "      <td>-0.455981</td>\n",
       "      <td>0.597523</td>\n",
       "    </tr>\n",
       "    <tr>\n",
       "      <th>Email</th>\n",
       "      <td>-0.020020</td>\n",
       "      <td>0.152355</td>\n",
       "      <td>-0.092711</td>\n",
       "      <td>-0.144998</td>\n",
       "      <td>-0.353186</td>\n",
       "      <td>-0.403463</td>\n",
       "    </tr>\n",
       "    <tr>\n",
       "      <th>Contacts</th>\n",
       "      <td>0.004283</td>\n",
       "      <td>0.031043</td>\n",
       "      <td>-0.447906</td>\n",
       "      <td>0.108875</td>\n",
       "      <td>0.011245</td>\n",
       "      <td>0.082442</td>\n",
       "    </tr>\n",
       "    <tr>\n",
       "      <th>Yearly_equip_failure</th>\n",
       "      <td>0.017665</td>\n",
       "      <td>-0.007070</td>\n",
       "      <td>0.153686</td>\n",
       "      <td>0.063449</td>\n",
       "      <td>0.420468</td>\n",
       "      <td>0.592380</td>\n",
       "    </tr>\n",
       "    <tr>\n",
       "      <th>Tenure</th>\n",
       "      <td>0.705211</td>\n",
       "      <td>-0.008913</td>\n",
       "      <td>0.006569</td>\n",
       "      <td>0.026652</td>\n",
       "      <td>0.009197</td>\n",
       "      <td>-0.036725</td>\n",
       "    </tr>\n",
       "    <tr>\n",
       "      <th>MonthlyCharge</th>\n",
       "      <td>0.040456</td>\n",
       "      <td>-0.004500</td>\n",
       "      <td>-0.404228</td>\n",
       "      <td>-0.136041</td>\n",
       "      <td>-0.218356</td>\n",
       "      <td>0.257205</td>\n",
       "    </tr>\n",
       "    <tr>\n",
       "      <th>Bandwidth_GB_Year</th>\n",
       "      <td>0.706719</td>\n",
       "      <td>-0.010435</td>\n",
       "      <td>0.008289</td>\n",
       "      <td>-0.002713</td>\n",
       "      <td>-0.021522</td>\n",
       "      <td>-0.012558</td>\n",
       "    </tr>\n",
       "  </tbody>\n",
       "</table>\n",
       "</div>"
      ],
      "text/plain": [
       "                           PC1       PC2       PC3       PC4       PC5  \\\n",
       "Lat                  -0.023161 -0.714010 -0.031715  0.109414 -0.094872   \n",
       "Lng                   0.007911  0.180879 -0.285753 -0.736871  0.344620   \n",
       "Population           -0.001230  0.653439  0.151916  0.322012 -0.119517   \n",
       "Children              0.014244 -0.014267  0.447882 -0.464670 -0.107498   \n",
       "Age                   0.001860  0.052795 -0.443537  0.227235  0.436759   \n",
       "Income                0.004185 -0.054602  0.195742 -0.041772  0.312779   \n",
       "Outage_sec_perweek    0.005811  0.009174 -0.249550 -0.126214 -0.455981   \n",
       "Email                -0.020020  0.152355 -0.092711 -0.144998 -0.353186   \n",
       "Contacts              0.004283  0.031043 -0.447906  0.108875  0.011245   \n",
       "Yearly_equip_failure  0.017665 -0.007070  0.153686  0.063449  0.420468   \n",
       "Tenure                0.705211 -0.008913  0.006569  0.026652  0.009197   \n",
       "MonthlyCharge         0.040456 -0.004500 -0.404228 -0.136041 -0.218356   \n",
       "Bandwidth_GB_Year     0.706719 -0.010435  0.008289 -0.002713 -0.021522   \n",
       "\n",
       "                           PC6  \n",
       "Lat                  -0.030887  \n",
       "Lng                  -0.087695  \n",
       "Population            0.098791  \n",
       "Children              0.130597  \n",
       "Age                  -0.096321  \n",
       "Income                0.100371  \n",
       "Outage_sec_perweek    0.597523  \n",
       "Email                -0.403463  \n",
       "Contacts              0.082442  \n",
       "Yearly_equip_failure  0.592380  \n",
       "Tenure               -0.036725  \n",
       "MonthlyCharge         0.257205  \n",
       "Bandwidth_GB_Year    -0.012558  "
      ]
     },
     "execution_count": 18,
     "metadata": {},
     "output_type": "execute_result"
    }
   ],
   "source": [
    "# create dataframe of loadings\n",
    "load = pd.DataFrame(pca.components_.T,columns = pc_labels,\n",
    "                    index=df.columns)\n",
    "load"
   ]
  },
  {
   "cell_type": "code",
   "execution_count": 19,
   "metadata": {},
   "outputs": [
    {
     "data": {
      "text/plain": [
       "Text(0.5, 1.0, 'Principal Component Matrix')"
      ]
     },
     "execution_count": 19,
     "metadata": {},
     "output_type": "execute_result"
    },
    {
     "data": {
      "image/png": "[encoded data removed]",
      "text/plain": [
       "<Figure size 1000x800 with 2 Axes>"
      ]
     },
     "metadata": {},
     "output_type": "display_data"
    }
   ],
   "source": [
    "# heatmap of PCs and loadings\n",
    "plt.figure(figsize=(10,8))\n",
    "sns.heatmap(load,cmap='rainbow',\n",
    "           annot=True,fmt='.2g')\n",
    "plt.title('Principal Component Matrix')"
   ]
  },
  {
   "cell_type": "code",
   "execution_count": 20,
   "metadata": {},
   "outputs": [
    {
     "name": "stdout",
     "output_type": "stream",
     "text": [
      "Variance explained by six (6) principal components = 56.622\n"
     ]
    }
   ],
   "source": [
    "# print total explained variance for six (6) principal components\n",
    "print('Variance explained by six (6) principal components =', \n",
    "      sum(pca.explained_variance_ratio_*100).round(3))"
   ]
  },
  {
   "cell_type": "code",
   "execution_count": 21,
   "metadata": {},
   "outputs": [
    {
     "data": {
      "text/plain": [
       "array([15.34388817,  9.49252346,  8.10511076,  8.03530799,  7.87065959,\n",
       "        7.77446725])"
      ]
     },
     "execution_count": 21,
     "metadata": {},
     "output_type": "execute_result"
    }
   ],
   "source": [
    "# explained explained variance for each\n",
    "pca.explained_variance_ratio_ * 100"
   ]
  },
  {
   "cell_type": "code",
   "execution_count": 22,
   "metadata": {},
   "outputs": [
    {
     "data": {
      "text/html": [
       "<div>\n",
       "<style scoped>\n",
       "    .dataframe tbody tr th:only-of-type {\n",
       "        vertical-align: middle;\n",
       "    }\n",
       "\n",
       "    .dataframe tbody tr th {\n",
       "        vertical-align: top;\n",
       "    }\n",
       "\n",
       "    .dataframe thead th {\n",
       "        text-align: right;\n",
       "    }\n",
       "</style>\n",
       "<table border=\"1\" class=\"dataframe\">\n",
       "  <thead>\n",
       "    <tr style=\"text-align: right;\">\n",
       "      <th></th>\n",
       "      <th>Captured variance per PC</th>\n",
       "    </tr>\n",
       "  </thead>\n",
       "  <tbody>\n",
       "    <tr>\n",
       "      <th>PC1</th>\n",
       "      <td>15.34</td>\n",
       "    </tr>\n",
       "    <tr>\n",
       "      <th>PC2</th>\n",
       "      <td>9.49</td>\n",
       "    </tr>\n",
       "    <tr>\n",
       "      <th>PC3</th>\n",
       "      <td>8.11</td>\n",
       "    </tr>\n",
       "    <tr>\n",
       "      <th>PC4</th>\n",
       "      <td>8.04</td>\n",
       "    </tr>\n",
       "    <tr>\n",
       "      <th>PC5</th>\n",
       "      <td>7.87</td>\n",
       "    </tr>\n",
       "    <tr>\n",
       "      <th>PC6</th>\n",
       "      <td>7.77</td>\n",
       "    </tr>\n",
       "  </tbody>\n",
       "</table>\n",
       "</div>"
      ],
      "text/plain": [
       "     Captured variance per PC\n",
       "PC1                     15.34\n",
       "PC2                      9.49\n",
       "PC3                      8.11\n",
       "PC4                      8.04\n",
       "PC5                      7.87\n",
       "PC6                      7.77"
      ]
     },
     "execution_count": 22,
     "metadata": {},
     "output_type": "execute_result"
    }
   ],
   "source": [
    "# captured variance per PC\n",
    "varex1 = pca.explained_variance_ratio_*100\n",
    "var_df1 = pd.DataFrame(varex1.round(2), \n",
    "            columns=['Captured variance per PC'],\n",
    "                 index = pc_labels)\n",
    "var_df1"
   ]
  },
  {
   "cell_type": "code",
   "execution_count": 23,
   "metadata": {},
   "outputs": [
    {
     "data": {
      "text/html": [
       "<div>\n",
       "<style scoped>\n",
       "    .dataframe tbody tr th:only-of-type {\n",
       "        vertical-align: middle;\n",
       "    }\n",
       "\n",
       "    .dataframe tbody tr th {\n",
       "        vertical-align: top;\n",
       "    }\n",
       "\n",
       "    .dataframe thead th {\n",
       "        text-align: right;\n",
       "    }\n",
       "</style>\n",
       "<table border=\"1\" class=\"dataframe\">\n",
       "  <thead>\n",
       "    <tr style=\"text-align: right;\">\n",
       "      <th></th>\n",
       "      <th>Eigenvalues per PC</th>\n",
       "    </tr>\n",
       "  </thead>\n",
       "  <tbody>\n",
       "    <tr>\n",
       "      <th>PC1</th>\n",
       "      <td>1.9949</td>\n",
       "    </tr>\n",
       "    <tr>\n",
       "      <th>PC2</th>\n",
       "      <td>1.2342</td>\n",
       "    </tr>\n",
       "    <tr>\n",
       "      <th>PC3</th>\n",
       "      <td>1.0538</td>\n",
       "    </tr>\n",
       "    <tr>\n",
       "      <th>PC4</th>\n",
       "      <td>1.0447</td>\n",
       "    </tr>\n",
       "    <tr>\n",
       "      <th>PC5</th>\n",
       "      <td>1.0233</td>\n",
       "    </tr>\n",
       "    <tr>\n",
       "      <th>PC6</th>\n",
       "      <td>1.0108</td>\n",
       "    </tr>\n",
       "  </tbody>\n",
       "</table>\n",
       "</div>"
      ],
      "text/plain": [
       "     Eigenvalues per PC\n",
       "PC1              1.9949\n",
       "PC2              1.2342\n",
       "PC3              1.0538\n",
       "PC4              1.0447\n",
       "PC5              1.0233\n",
       "PC6              1.0108"
      ]
     },
     "execution_count": 23,
     "metadata": {},
     "output_type": "execute_result"
    }
   ],
   "source": [
    "# eigenvalues per PC\n",
    "eigenvalues = pca.explained_variance_\n",
    "eigen_df = pd.DataFrame(eigenvalues.round(4),\n",
    "            columns=['Eigenvalues per PC'],\n",
    "            index = pc_labels)\n",
    "eigen_df"
   ]
  },
  {
   "cell_type": "code",
   "execution_count": 24,
   "metadata": {},
   "outputs": [
    {
     "data": {
      "text/plain": [
       "array([15.34388817, 24.83641162, 32.94152239, 40.97683038, 48.84748997,\n",
       "       56.62195722])"
      ]
     },
     "execution_count": 24,
     "metadata": {},
     "output_type": "execute_result"
    }
   ],
   "source": [
    "# cumulative sum\n",
    "np.cumsum(pca.explained_variance_ratio_*100)"
   ]
  },
  {
   "cell_type": "code",
   "execution_count": 25,
   "metadata": {},
   "outputs": [
    {
     "data": {
      "image/png": "[encoded data removed]",
      "text/plain": [
       "<Figure size 1000x800 with 1 Axes>"
      ]
     },
     "metadata": {},
     "output_type": "display_data"
    }
   ],
   "source": [
    "# code adapted from https://vitalflux.com/pca-explained-variance-concept-python-example/\n",
    "exp_var_pca = pca.explained_variance_ratio_\n",
    "cum_sum_eigenvalues = np.cumsum(exp_var_pca)\n",
    "fig, ax1 = plt.subplots()\n",
    "fig.set_size_inches(10,8)\n",
    "plt.bar(range(0,len(exp_var_pca)), exp_var_pca, alpha=0.5, align='center',\n",
    "        tick_label=pc_labels, label='Individual explained variance')\n",
    "plt.step(range(0,len(cum_sum_eigenvalues)), cum_sum_eigenvalues, where='mid',label='Cumulative explained variance')\n",
    "plt.ylabel('Explained variance ratio')\n",
    "plt.xlabel('Principal component index')\n",
    "ax1.axhline(y = .95, color='k', linestyle='--', label = '95% Variance')\n",
    "ax1.axhline(y = .90, color='c', linestyle='--', label = '90% Variance')\n",
    "ax1.axhline(y = .85, color='r', linestyle='--', label = '85% Variance')\n",
    "plt.legend(loc='best')\n",
    "plt.tight_layout()\n",
    "plt.show()"
   ]
  },
  {
   "attachments": {},
   "cell_type": "markdown",
   "metadata": {},
   "source": [
    "-----\n"
   ]
  },
  {
   "cell_type": "code",
   "execution_count": 26,
   "metadata": {},
   "outputs": [
    {
     "ename": "NameError",
     "evalue": "name 'x_pca' is not defined",
     "output_type": "error",
     "traceback": [
      "\u001b[1;31m---------------------------------------------------------------------------\u001b[0m",
      "\u001b[1;31mNameError\u001b[0m                                 Traceback (most recent call last)",
      "Cell \u001b[1;32mIn [26], line 3\u001b[0m\n\u001b[0;32m      1\u001b[0m churn[\u001b[39m'\u001b[39m\u001b[39mChurn\u001b[39m\u001b[39m'\u001b[39m] \u001b[39m=\u001b[39m churn[\u001b[39m'\u001b[39m\u001b[39mChurn\u001b[39m\u001b[39m'\u001b[39m]\u001b[39m.\u001b[39mmap({\u001b[39m'\u001b[39m\u001b[39mYes\u001b[39m\u001b[39m'\u001b[39m: \u001b[39mTrue\u001b[39;00m, \u001b[39m'\u001b[39m\u001b[39mNo\u001b[39m\u001b[39m'\u001b[39m: \u001b[39mFalse\u001b[39;00m})\n\u001b[0;32m      2\u001b[0m plt\u001b[39m.\u001b[39mfigure(figsize\u001b[39m=\u001b[39m(\u001b[39m10\u001b[39m,\u001b[39m8\u001b[39m))\n\u001b[1;32m----> 3\u001b[0m plt\u001b[39m.\u001b[39mscatter(x_pca[:,\u001b[39m0\u001b[39m],x_pca[:,\u001b[39m1\u001b[39m], c\u001b[39m=\u001b[39mchurn[\u001b[39m'\u001b[39m\u001b[39mChurn\u001b[39m\u001b[39m'\u001b[39m], cmap\u001b[39m=\u001b[39m\u001b[39m'\u001b[39m\u001b[39mrainbow\u001b[39m\u001b[39m'\u001b[39m)\n\u001b[0;32m      4\u001b[0m plt\u001b[39m.\u001b[39mxlabel(\u001b[39m'\u001b[39m\u001b[39mFirst Principal Component\u001b[39m\u001b[39m'\u001b[39m)\n\u001b[0;32m      5\u001b[0m plt\u001b[39m.\u001b[39mylabel(\u001b[39m'\u001b[39m\u001b[39mSecond Principal Component\u001b[39m\u001b[39m'\u001b[39m)\n",
      "\u001b[1;31mNameError\u001b[0m: name 'x_pca' is not defined"
     ]
    },
    {
     "data": {
      "text/plain": [
       "<Figure size 1000x800 with 0 Axes>"
      ]
     },
     "metadata": {},
     "output_type": "display_data"
    }
   ],
   "source": [
    "churn['Churn'] = churn['Churn'].map({'Yes': True, 'No': False})\n",
    "plt.figure(figsize=(10,8))\n",
    "plt.scatter(x_pca[:,0],x_pca[:,1], c=churn['Churn'], cmap='rainbow')\n",
    "plt.xlabel('First Principal Component')\n",
    "plt.ylabel('Second Principal Component')\n",
    "plt.title('2-dimension with 26.90% captured variance')\n",
    "plt.show()"
   ]
  },
  {
   "cell_type": "code",
   "execution_count": null,
   "metadata": {},
   "outputs": [],
   "source": [
    "pca.components_.round(3)"
   ]
  },
  {
   "cell_type": "code",
   "execution_count": null,
   "metadata": {},
   "outputs": [],
   "source": [
    "pca_comp = pd.DataFrame(pca.components_,\n",
    "        columns=features,index=pc_labels)\n",
    "print(pca_comp.round(2))"
   ]
  },
  {
   "cell_type": "code",
   "execution_count": null,
   "metadata": {},
   "outputs": [],
   "source": [
    "col_list = scaled_df.columns"
   ]
  },
  {
   "cell_type": "code",
   "execution_count": null,
   "metadata": {},
   "outputs": [],
   "source": [
    "pc_load = pd.DataFrame(pca.components_.T, columns=pc_labels, index=scaled_df.columns)\n",
    "print(pc_load)"
   ]
  }
 ],
 "metadata": {
  "kernelspec": {
   "display_name": "Python 3",
   "language": "python",
   "name": "python3"
  },
  "language_info": {
   "codemirror_mode": {
    "name": "ipython",
    "version": 3
   },
   "file_extension": ".py",
   "mimetype": "text/x-python",
   "name": "python",
   "nbconvert_exporter": "python",
   "pygments_lexer": "ipython3",
   "version": "3.11.0"
  },
  "orig_nbformat": 4,
  "vscode": {
   "interpreter": {
    "hash": "811bbdf3489093e57429da9e6c98da378eba9c58dc1a87ca0c761486bd09ff45"
   }
  }
 },
 "nbformat": 4,
 "nbformat_minor": 2
}
