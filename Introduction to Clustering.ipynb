{
 "cells": [
  {
   "attachments": {},
   "cell_type": "markdown",
   "metadata": {},
   "source": [
    "hierarchical clustering\n",
    "\n",
    "# Import linkage and fcluster functions\n",
    "from scipy.cluster.hierarchy import linkage, fcluster\n",
    "\n",
    "# Use the linkage() function to compute distance\n",
    "Z = linkage(df, 'ward')\n",
    "\n",
    "# Generate cluster labels\n",
    "df['cluster_labels'] = fcluster(Z, 2, criterion='maxclust')\n",
    "\n",
    "# Plot the points with seaborn\n",
    "sns.scatterplot(x='x', y='y', hue='cluster_labels', data=df)\n",
    "plt.show()"
   ]
  },
  {
   "attachments": {},
   "cell_type": "markdown",
   "metadata": {},
   "source": [
    "----\n",
    "# Import kmeans and vq functions\n",
    "from scipy.cluster.vq import kmeans, vq\n",
    "\n",
    "# Compute cluster centers\n",
    "centroids,_ = kmeans(df, 2)\n",
    "\n",
    "# Assign cluster labels\n",
    "df['cluster_labels'], _ = vq(df, centroids)\n",
    "\n",
    "# Plot the points with seaborn\n",
    "sns.scatterplot(x='x', y='y', hue='cluster_labels', data=df)\n",
    "plt.show()"
   ]
  },
  {
   "attachments": {},
   "cell_type": "markdown",
   "metadata": {},
   "source": [
    "----\n",
    "Normalization of Data:\n",
    "\n",
    "Easy, achieved through: x_new = x / std_dev(x)\n",
    "\n",
    "\n",
    "from scipy.cluster.vq import whiten\n",
    "\n",
    "data = [5, 1, 3, 3, 2, 3, 3, 8, 1, 2, 2, 3, 5]\n",
    "\n",
    "scaled_data = whiten(data)\n",
    "\n",
    "print(scaled_data)"
   ]
  },
  {
   "attachments": {},
   "cell_type": "markdown",
   "metadata": {},
   "source": [
    "----\n",
    "# Prepare data\n",
    "rate_cuts = [0.0025, 0.001, -0.0005, -0.001, -0.0005, 0.0025, -0.001, -0.0015, -0.001, 0.0005]\n",
    "\n",
    "# Use the whiten() function to standardize the data\n",
    "scaled_data = whiten(rate_cuts)\n",
    "\n",
    "# Plot original data\n",
    "plt.plot(rate_cuts, label='original')\n",
    "\n",
    "# Plot scaled data\n",
    "plt.plot(scaled_data, label='scaled')\n",
    "\n",
    "plt.legend()\n",
    "plt.show()"
   ]
  },
  {
   "attachments": {},
   "cell_type": "markdown",
   "metadata": {},
   "source": [
    "----\n",
    "# Scale wage and value\n",
    "fifa['scaled_wage'] = whiten(fifa['eur_wage'])\n",
    "fifa['scaled_value'] = whiten(fifa['eur_value'])\n",
    "\n",
    "# Plot the two columns in a scatter plot\n",
    "fifa.plot(x='scaled_wage', y='scaled_value', kind = 'scatter')\n",
    "plt.show()\n",
    "\n",
    "# Check mean and standard deviation of scaled values\n",
    "print(fifa[['scaled_wage', 'scaled_value']].describe())"
   ]
  },
  {
   "attachments": {},
   "cell_type": "markdown",
   "metadata": {},
   "source": [
    "----\n",
    "K-means clustering requires two steps.\n",
    "\n",
    "**Step 1: Generate cluster centers.**\n",
    "\n",
    "kmeans(obs, k_or_guess, iter, thresh, check_finite)\n",
    "\n",
    "obs: standardized operations via the whiten method\n",
    "\n",
    "k_or_guess: number of clusters\n",
    "\n",
    "iter: number of iterations to perform (default: 20)\n",
    "\n",
    "thresh: threshold (default 1e-05) terminated when the distortion is <= the threshold\n",
    "\n",
    "check_finite: whether to check if observations include infinite or NaN values numbers (default: True)\n",
    "\n",
    "Returns two objects: cluster centers (aka, the code book), distortion\n",
    "\n",
    "**Step 2: Generate the cluster labels.**\n",
    "\n",
    "vq(obs, code_book, check_finite = True)\n",
    "\n",
    "obs: standardized operations via the whiten method\n",
    "\n",
    "code_book: cluster centers, the first output of the k-means method\n",
    "\n",
    "check_finite: whether to check if observations include infinite or NaN values numbers (default: True)\n",
    "\n",
    "**A note on distortions**\n",
    "\n",
    "k-means returns a signle value of distortions\n",
    "\n",
    "vq returns a list of distortions"
   ]
  },
  {
   "attachments": {},
   "cell_type": "markdown",
   "metadata": {},
   "source": [
    "----\n",
    "**Running k-means**\n",
    "\n",
    "#import kmeans and vq functions\n",
    "\n",
    "from scipy.cluster.vq import kmeans, vq\n",
    "\n",
    "#Generate cluster centers and labels\n",
    "\n",
    "cluster_centers, _ = kmeans(df[['scaled_x', 'scaled_y']], 3)\n",
    "\n",
    "df['cluster_labels'], _ = vq(df[['scaled_x', 'scaled_y']], cluster_centers)\n",
    "\n",
    "#Plot clusters\n",
    "\n",
    "sns.scatterplot(x = 'scaled_x', y = 'scaled_y', hue = 'cluster_labels', data = df)\n",
    "\n",
    "plt.show()"
   ]
  },
  {
   "attachments": {},
   "cell_type": "markdown",
   "metadata": {},
   "source": [
    "----\n",
    "# Import the kmeans and vq functions\n",
    "from scipy.cluster.vq import kmeans, vq\n",
    "\n",
    "# Generate cluster centers\n",
    "cluster_centers, distortion = kmeans(comic_con[['x_scaled', 'y_scaled']], 2)\n",
    "\n",
    "# Assign cluster labels\n",
    "comic_con['cluster_labels'], distortion_list = vq(comic_con[['x_scaled', 'y_scaled']], cluster_centers)\n",
    "\n",
    "# Plot clusters\n",
    "sns.scatterplot(x='x_scaled', y='y_scaled', \n",
    "                hue='cluster_labels', data = comic_con)\n",
    "plt.show()"
   ]
  },
  {
   "attachments": {},
   "cell_type": "markdown",
   "metadata": {},
   "source": [
    "----\n",
    "* No absolute method to find the right number of clusters (k) in k-means clustering\n",
    "* Elbow method does an okay job indicating it\n",
    "\n",
    "**Elbow method**\n",
    "\n",
    "#Declaring variables for use\n",
    "\n",
    "distortions = []\n",
    "\n",
    "num_cluster = range(2, 7)\n",
    "\n",
    "\n",
    "#Populating distortions for various clusters\n",
    "\n",
    "for i in num_clusters:\n",
    "\n",
    "    centoids, distortion = kmeans(df[['scaled_x', 'scaled_y']], i)\n",
    "\n",
    "    distortions.append(distortion)\n",
    "\n",
    "\n",
    "#Plotting elbow plot data\n",
    "elbow_plot_data = pd.DataFrame({'num_clusters': num_clusters,\n",
    "\n",
    "                                'distortions': distortions})\n",
    "\n",
    "\n",
    "sns.lineplot(x = 'num_clusters', y = 'distortions',\n",
    "\n",
    "             data = elbow_plot_data)\n",
    "\n",
    "\n",
    "plt.show()"
   ]
  }
 ],
 "metadata": {
  "kernelspec": {
   "display_name": "Python 3.11.0 64-bit",
   "language": "python",
   "name": "python3"
  },
  "language_info": {
   "name": "python",
   "version": "3.11.0 (main, Oct 24 2022, 18:26:48) [MSC v.1933 64 bit (AMD64)]"
  },
  "orig_nbformat": 4,
  "vscode": {
   "interpreter": {
    "hash": "811bbdf3489093e57429da9e6c98da378eba9c58dc1a87ca0c761486bd09ff45"
   }
  }
 },
 "nbformat": 4,
 "nbformat_minor": 2
}
