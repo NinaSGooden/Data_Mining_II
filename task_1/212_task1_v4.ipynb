{
 "cells": [
  {
   "cell_type": "code",
   "execution_count": 1,
   "metadata": {},
   "outputs": [],
   "source": [
    "import pandas as pd\n",
    "import numpy as np\n",
    "import seaborn as sns\n",
    "import matplotlib.pyplot as plt\n",
    "from scipy.cluster.vq import kmeans, vq, whiten"
   ]
  },
  {
   "cell_type": "code",
   "execution_count": 2,
   "metadata": {},
   "outputs": [],
   "source": [
    "df = pd.read_csv('E:/HDD Documents/HDD Documents/School/WGU/medical/medical_clean.csv')"
   ]
  },
  {
   "cell_type": "code",
   "execution_count": 3,
   "metadata": {},
   "outputs": [],
   "source": [
    "df = df[['Age', 'Income','Initial_days', 'Zip', 'Additional_charges']]"
   ]
  },
  {
   "cell_type": "code",
   "execution_count": 4,
   "metadata": {},
   "outputs": [
    {
     "data": {
      "text/plain": [
       "Age                   False\n",
       "Income                False\n",
       "Initial_days          False\n",
       "Zip                   False\n",
       "Additional_charges    False\n",
       "dtype: bool"
      ]
     },
     "execution_count": 4,
     "metadata": {},
     "output_type": "execute_result"
    }
   ],
   "source": [
    "df.isna().any()"
   ]
  },
  {
   "cell_type": "code",
   "execution_count": 5,
   "metadata": {},
   "outputs": [
    {
     "data": {
      "text/html": [
       "<div>\n",
       "<style scoped>\n",
       "    .dataframe tbody tr th:only-of-type {\n",
       "        vertical-align: middle;\n",
       "    }\n",
       "\n",
       "    .dataframe tbody tr th {\n",
       "        vertical-align: top;\n",
       "    }\n",
       "\n",
       "    .dataframe thead th {\n",
       "        text-align: right;\n",
       "    }\n",
       "</style>\n",
       "<table border=\"1\" class=\"dataframe\">\n",
       "  <thead>\n",
       "    <tr style=\"text-align: right;\">\n",
       "      <th></th>\n",
       "      <th>Age</th>\n",
       "      <th>Income</th>\n",
       "      <th>Initial_days</th>\n",
       "      <th>Zip</th>\n",
       "      <th>Additional_charges</th>\n",
       "    </tr>\n",
       "  </thead>\n",
       "  <tbody>\n",
       "    <tr>\n",
       "      <th>count</th>\n",
       "      <td>10000.000000</td>\n",
       "      <td>10000.000000</td>\n",
       "      <td>10000.000000</td>\n",
       "      <td>10000.000000</td>\n",
       "      <td>10000.000000</td>\n",
       "    </tr>\n",
       "    <tr>\n",
       "      <th>mean</th>\n",
       "      <td>53.511700</td>\n",
       "      <td>40490.495160</td>\n",
       "      <td>34.455299</td>\n",
       "      <td>50159.323900</td>\n",
       "      <td>12934.528587</td>\n",
       "    </tr>\n",
       "    <tr>\n",
       "      <th>std</th>\n",
       "      <td>20.638538</td>\n",
       "      <td>28521.153293</td>\n",
       "      <td>26.309341</td>\n",
       "      <td>27469.588208</td>\n",
       "      <td>6542.601544</td>\n",
       "    </tr>\n",
       "    <tr>\n",
       "      <th>min</th>\n",
       "      <td>18.000000</td>\n",
       "      <td>154.080000</td>\n",
       "      <td>1.001981</td>\n",
       "      <td>610.000000</td>\n",
       "      <td>3125.703000</td>\n",
       "    </tr>\n",
       "    <tr>\n",
       "      <th>25%</th>\n",
       "      <td>36.000000</td>\n",
       "      <td>19598.775000</td>\n",
       "      <td>7.896215</td>\n",
       "      <td>27592.000000</td>\n",
       "      <td>7986.487755</td>\n",
       "    </tr>\n",
       "    <tr>\n",
       "      <th>50%</th>\n",
       "      <td>53.000000</td>\n",
       "      <td>33768.420000</td>\n",
       "      <td>35.836244</td>\n",
       "      <td>50207.000000</td>\n",
       "      <td>11573.977735</td>\n",
       "    </tr>\n",
       "    <tr>\n",
       "      <th>75%</th>\n",
       "      <td>71.000000</td>\n",
       "      <td>54296.402500</td>\n",
       "      <td>61.161020</td>\n",
       "      <td>72411.750000</td>\n",
       "      <td>15626.490000</td>\n",
       "    </tr>\n",
       "    <tr>\n",
       "      <th>max</th>\n",
       "      <td>89.000000</td>\n",
       "      <td>207249.100000</td>\n",
       "      <td>71.981490</td>\n",
       "      <td>99929.000000</td>\n",
       "      <td>30566.070000</td>\n",
       "    </tr>\n",
       "  </tbody>\n",
       "</table>\n",
       "</div>"
      ],
      "text/plain": [
       "                Age         Income  Initial_days           Zip  \\\n",
       "count  10000.000000   10000.000000  10000.000000  10000.000000   \n",
       "mean      53.511700   40490.495160     34.455299  50159.323900   \n",
       "std       20.638538   28521.153293     26.309341  27469.588208   \n",
       "min       18.000000     154.080000      1.001981    610.000000   \n",
       "25%       36.000000   19598.775000      7.896215  27592.000000   \n",
       "50%       53.000000   33768.420000     35.836244  50207.000000   \n",
       "75%       71.000000   54296.402500     61.161020  72411.750000   \n",
       "max       89.000000  207249.100000     71.981490  99929.000000   \n",
       "\n",
       "       Additional_charges  \n",
       "count        10000.000000  \n",
       "mean         12934.528587  \n",
       "std           6542.601544  \n",
       "min           3125.703000  \n",
       "25%           7986.487755  \n",
       "50%          11573.977735  \n",
       "75%          15626.490000  \n",
       "max          30566.070000  "
      ]
     },
     "execution_count": 5,
     "metadata": {},
     "output_type": "execute_result"
    }
   ],
   "source": [
    "df.describe()"
   ]
  },
  {
   "cell_type": "code",
   "execution_count": 6,
   "metadata": {},
   "outputs": [
    {
     "data": {
      "text/html": [
       "<div>\n",
       "<style scoped>\n",
       "    .dataframe tbody tr th:only-of-type {\n",
       "        vertical-align: middle;\n",
       "    }\n",
       "\n",
       "    .dataframe tbody tr th {\n",
       "        vertical-align: top;\n",
       "    }\n",
       "\n",
       "    .dataframe thead th {\n",
       "        text-align: right;\n",
       "    }\n",
       "</style>\n",
       "<table border=\"1\" class=\"dataframe\">\n",
       "  <thead>\n",
       "    <tr style=\"text-align: right;\">\n",
       "      <th></th>\n",
       "      <th>Age</th>\n",
       "      <th>Income</th>\n",
       "      <th>Initial_days</th>\n",
       "      <th>Zip</th>\n",
       "      <th>Additional_charges</th>\n",
       "    </tr>\n",
       "  </thead>\n",
       "  <tbody>\n",
       "    <tr>\n",
       "      <th>0</th>\n",
       "      <td>53</td>\n",
       "      <td>86575.93</td>\n",
       "      <td>10.585770</td>\n",
       "      <td>35621</td>\n",
       "      <td>17939.403420</td>\n",
       "    </tr>\n",
       "    <tr>\n",
       "      <th>1</th>\n",
       "      <td>51</td>\n",
       "      <td>46805.99</td>\n",
       "      <td>15.129562</td>\n",
       "      <td>32446</td>\n",
       "      <td>17612.998120</td>\n",
       "    </tr>\n",
       "    <tr>\n",
       "      <th>2</th>\n",
       "      <td>53</td>\n",
       "      <td>14370.14</td>\n",
       "      <td>4.772177</td>\n",
       "      <td>57110</td>\n",
       "      <td>17505.192460</td>\n",
       "    </tr>\n",
       "    <tr>\n",
       "      <th>3</th>\n",
       "      <td>78</td>\n",
       "      <td>39741.49</td>\n",
       "      <td>1.714879</td>\n",
       "      <td>56072</td>\n",
       "      <td>12993.437350</td>\n",
       "    </tr>\n",
       "    <tr>\n",
       "      <th>4</th>\n",
       "      <td>22</td>\n",
       "      <td>1209.56</td>\n",
       "      <td>1.254807</td>\n",
       "      <td>23181</td>\n",
       "      <td>3716.525786</td>\n",
       "    </tr>\n",
       "  </tbody>\n",
       "</table>\n",
       "</div>"
      ],
      "text/plain": [
       "   Age    Income  Initial_days    Zip  Additional_charges\n",
       "0   53  86575.93     10.585770  35621        17939.403420\n",
       "1   51  46805.99     15.129562  32446        17612.998120\n",
       "2   53  14370.14      4.772177  57110        17505.192460\n",
       "3   78  39741.49      1.714879  56072        12993.437350\n",
       "4   22   1209.56      1.254807  23181         3716.525786"
      ]
     },
     "execution_count": 6,
     "metadata": {},
     "output_type": "execute_result"
    }
   ],
   "source": [
    "df.head()"
   ]
  },
  {
   "cell_type": "code",
   "execution_count": 7,
   "metadata": {},
   "outputs": [
    {
     "data": {
      "text/html": [
       "<div>\n",
       "<style scoped>\n",
       "    .dataframe tbody tr th:only-of-type {\n",
       "        vertical-align: middle;\n",
       "    }\n",
       "\n",
       "    .dataframe tbody tr th {\n",
       "        vertical-align: top;\n",
       "    }\n",
       "\n",
       "    .dataframe thead th {\n",
       "        text-align: right;\n",
       "    }\n",
       "</style>\n",
       "<table border=\"1\" class=\"dataframe\">\n",
       "  <thead>\n",
       "    <tr style=\"text-align: right;\">\n",
       "      <th></th>\n",
       "      <th>Age</th>\n",
       "      <th>Income</th>\n",
       "      <th>Initial_days</th>\n",
       "      <th>Zip</th>\n",
       "      <th>Additional_charges</th>\n",
       "    </tr>\n",
       "  </thead>\n",
       "  <tbody>\n",
       "    <tr>\n",
       "      <th>0</th>\n",
       "      <td>2.568140</td>\n",
       "      <td>3.035651</td>\n",
       "      <td>0.402378</td>\n",
       "      <td>1.296808</td>\n",
       "      <td>2.742074</td>\n",
       "    </tr>\n",
       "    <tr>\n",
       "      <th>1</th>\n",
       "      <td>2.471229</td>\n",
       "      <td>1.641179</td>\n",
       "      <td>0.575093</td>\n",
       "      <td>1.181220</td>\n",
       "      <td>2.692183</td>\n",
       "    </tr>\n",
       "    <tr>\n",
       "      <th>2</th>\n",
       "      <td>2.568140</td>\n",
       "      <td>0.503867</td>\n",
       "      <td>0.181396</td>\n",
       "      <td>2.079130</td>\n",
       "      <td>2.675704</td>\n",
       "    </tr>\n",
       "    <tr>\n",
       "      <th>3</th>\n",
       "      <td>3.779526</td>\n",
       "      <td>1.393474</td>\n",
       "      <td>0.065185</td>\n",
       "      <td>2.041341</td>\n",
       "      <td>1.986073</td>\n",
       "    </tr>\n",
       "    <tr>\n",
       "      <th>4</th>\n",
       "      <td>1.066020</td>\n",
       "      <td>0.042411</td>\n",
       "      <td>0.047697</td>\n",
       "      <td>0.843921</td>\n",
       "      <td>0.568079</td>\n",
       "    </tr>\n",
       "    <tr>\n",
       "      <th>...</th>\n",
       "      <td>...</td>\n",
       "      <td>...</td>\n",
       "      <td>...</td>\n",
       "      <td>...</td>\n",
       "      <td>...</td>\n",
       "    </tr>\n",
       "    <tr>\n",
       "      <th>9995</th>\n",
       "      <td>1.211387</td>\n",
       "      <td>1.611783</td>\n",
       "      <td>1.959905</td>\n",
       "      <td>1.003451</td>\n",
       "      <td>1.364608</td>\n",
       "    </tr>\n",
       "    <tr>\n",
       "      <th>9996</th>\n",
       "      <td>4.215626</td>\n",
       "      <td>0.525356</td>\n",
       "      <td>2.610163</td>\n",
       "      <td>0.303624</td>\n",
       "      <td>4.357376</td>\n",
       "    </tr>\n",
       "    <tr>\n",
       "      <th>9997</th>\n",
       "      <td>2.180496</td>\n",
       "      <td>2.311306</td>\n",
       "      <td>2.666646</td>\n",
       "      <td>1.353237</td>\n",
       "      <td>2.335764</td>\n",
       "    </tr>\n",
       "    <tr>\n",
       "      <th>9998</th>\n",
       "      <td>2.083585</td>\n",
       "      <td>1.041466</td>\n",
       "      <td>2.408273</td>\n",
       "      <td>2.103340</td>\n",
       "      <td>1.189445</td>\n",
       "    </tr>\n",
       "    <tr>\n",
       "      <th>9999</th>\n",
       "      <td>3.391883</td>\n",
       "      <td>2.197869</td>\n",
       "      <td>2.693117</td>\n",
       "      <td>0.550018</td>\n",
       "      <td>1.779685</td>\n",
       "    </tr>\n",
       "  </tbody>\n",
       "</table>\n",
       "<p>10000 rows × 5 columns</p>\n",
       "</div>"
      ],
      "text/plain": [
       "           Age    Income  Initial_days       Zip  Additional_charges\n",
       "0     2.568140  3.035651      0.402378  1.296808            2.742074\n",
       "1     2.471229  1.641179      0.575093  1.181220            2.692183\n",
       "2     2.568140  0.503867      0.181396  2.079130            2.675704\n",
       "3     3.779526  1.393474      0.065185  2.041341            1.986073\n",
       "4     1.066020  0.042411      0.047697  0.843921            0.568079\n",
       "...        ...       ...           ...       ...                 ...\n",
       "9995  1.211387  1.611783      1.959905  1.003451            1.364608\n",
       "9996  4.215626  0.525356      2.610163  0.303624            4.357376\n",
       "9997  2.180496  2.311306      2.666646  1.353237            2.335764\n",
       "9998  2.083585  1.041466      2.408273  2.103340            1.189445\n",
       "9999  3.391883  2.197869      2.693117  0.550018            1.779685\n",
       "\n",
       "[10000 rows x 5 columns]"
      ]
     },
     "execution_count": 7,
     "metadata": {},
     "output_type": "execute_result"
    }
   ],
   "source": [
    "#Normalize data and store it in a new variable\n",
    "scaled_data = pd.DataFrame( data = whiten(obs = df, check_finite = True), columns = df.columns)\n",
    "scaled_data"
   ]
  },
  {
   "cell_type": "code",
   "execution_count": 8,
   "metadata": {},
   "outputs": [
    {
     "data": {
      "image/png": "[encoded data removed]",
      "text/plain": [
       "<Figure size 640x480 with 1 Axes>"
      ]
     },
     "metadata": {},
     "output_type": "display_data"
    }
   ],
   "source": [
    "#Plot original data\n",
    "plt.plot(df, label='original')\n",
    "plt.legend()\n",
    "plt.show()\n"
   ]
  },
  {
   "cell_type": "code",
   "execution_count": 9,
   "metadata": {},
   "outputs": [
    {
     "data": {
      "image/png": "[encoded data removed]",
      "text/plain": [
       "<Figure size 640x480 with 1 Axes>"
      ]
     },
     "metadata": {},
     "output_type": "display_data"
    }
   ],
   "source": [
    "# Plot scaled data\n",
    "plt.plot(scaled_data, label = 'scaled')\n",
    "plt.legend()\n",
    "plt.show()"
   ]
  },
  {
   "cell_type": "code",
   "execution_count": 10,
   "metadata": {},
   "outputs": [
    {
     "name": "stdout",
     "output_type": "stream",
     "text": [
      "['Age', 1.0000500037503124]\n",
      "['Income', 1.0000500037503124]\n",
      "['Initial_days', 1.0000500037503124]\n",
      "['Zip', 1.0000500037503124]\n",
      "['Additional_charges', 1.0000500037503124]\n"
     ]
    }
   ],
   "source": [
    "#Sanity check to make sure the standard deviation is the same, aka the data is normalized\n",
    "for i in scaled_data.columns:\n",
    "    print([i, scaled_data[i].std()])"
   ]
  },
  {
   "cell_type": "code",
   "execution_count": 11,
   "metadata": {},
   "outputs": [
    {
     "data": {
      "text/html": [
       "<div>\n",
       "<style scoped>\n",
       "    .dataframe tbody tr th:only-of-type {\n",
       "        vertical-align: middle;\n",
       "    }\n",
       "\n",
       "    .dataframe tbody tr th {\n",
       "        vertical-align: top;\n",
       "    }\n",
       "\n",
       "    .dataframe thead th {\n",
       "        text-align: right;\n",
       "    }\n",
       "</style>\n",
       "<table border=\"1\" class=\"dataframe\">\n",
       "  <thead>\n",
       "    <tr style=\"text-align: right;\">\n",
       "      <th></th>\n",
       "      <th>Age</th>\n",
       "      <th>Income</th>\n",
       "      <th>Initial_days</th>\n",
       "      <th>Zip</th>\n",
       "      <th>Additional_charges</th>\n",
       "    </tr>\n",
       "  </thead>\n",
       "  <tbody>\n",
       "    <tr>\n",
       "      <th>count</th>\n",
       "      <td>10000.000000</td>\n",
       "      <td>10000.000000</td>\n",
       "      <td>10000.000000</td>\n",
       "      <td>10000.000000</td>\n",
       "      <td>10000.000000</td>\n",
       "    </tr>\n",
       "    <tr>\n",
       "      <th>mean</th>\n",
       "      <td>2.592934</td>\n",
       "      <td>1.419736</td>\n",
       "      <td>1.309688</td>\n",
       "      <td>1.826086</td>\n",
       "      <td>1.977069</td>\n",
       "    </tr>\n",
       "    <tr>\n",
       "      <th>std</th>\n",
       "      <td>1.000050</td>\n",
       "      <td>1.000050</td>\n",
       "      <td>1.000050</td>\n",
       "      <td>1.000050</td>\n",
       "      <td>1.000050</td>\n",
       "    </tr>\n",
       "    <tr>\n",
       "      <th>min</th>\n",
       "      <td>0.872198</td>\n",
       "      <td>0.005403</td>\n",
       "      <td>0.038087</td>\n",
       "      <td>0.022207</td>\n",
       "      <td>0.477770</td>\n",
       "    </tr>\n",
       "    <tr>\n",
       "      <th>25%</th>\n",
       "      <td>1.744397</td>\n",
       "      <td>0.687201</td>\n",
       "      <td>0.300145</td>\n",
       "      <td>1.004506</td>\n",
       "      <td>1.220751</td>\n",
       "    </tr>\n",
       "    <tr>\n",
       "      <th>50%</th>\n",
       "      <td>2.568140</td>\n",
       "      <td>1.184037</td>\n",
       "      <td>1.362179</td>\n",
       "      <td>1.827822</td>\n",
       "      <td>1.769106</td>\n",
       "    </tr>\n",
       "    <tr>\n",
       "      <th>75%</th>\n",
       "      <td>3.440338</td>\n",
       "      <td>1.903819</td>\n",
       "      <td>2.324805</td>\n",
       "      <td>2.636202</td>\n",
       "      <td>2.388541</td>\n",
       "    </tr>\n",
       "    <tr>\n",
       "      <th>max</th>\n",
       "      <td>4.312537</td>\n",
       "      <td>7.266868</td>\n",
       "      <td>2.736104</td>\n",
       "      <td>3.637987</td>\n",
       "      <td>4.672086</td>\n",
       "    </tr>\n",
       "  </tbody>\n",
       "</table>\n",
       "</div>"
      ],
      "text/plain": [
       "                Age        Income  Initial_days           Zip  \\\n",
       "count  10000.000000  10000.000000  10000.000000  10000.000000   \n",
       "mean       2.592934      1.419736      1.309688      1.826086   \n",
       "std        1.000050      1.000050      1.000050      1.000050   \n",
       "min        0.872198      0.005403      0.038087      0.022207   \n",
       "25%        1.744397      0.687201      0.300145      1.004506   \n",
       "50%        2.568140      1.184037      1.362179      1.827822   \n",
       "75%        3.440338      1.903819      2.324805      2.636202   \n",
       "max        4.312537      7.266868      2.736104      3.637987   \n",
       "\n",
       "       Additional_charges  \n",
       "count        10000.000000  \n",
       "mean             1.977069  \n",
       "std              1.000050  \n",
       "min              0.477770  \n",
       "25%              1.220751  \n",
       "50%              1.769106  \n",
       "75%              2.388541  \n",
       "max              4.672086  "
      ]
     },
     "execution_count": 11,
     "metadata": {},
     "output_type": "execute_result"
    }
   ],
   "source": [
    "scaled_data.describe()"
   ]
  },
  {
   "cell_type": "code",
   "execution_count": 12,
   "metadata": {},
   "outputs": [],
   "source": [
    "scaled_data.to_csv('E:/HDD Documents/HDD Documents/School/WGU/d212_data_mining_ii/scaled_data.csv')"
   ]
  },
  {
   "cell_type": "code",
   "execution_count": 13,
   "metadata": {},
   "outputs": [
    {
     "data": {
      "text/plain": [
       "(array([[1.99216566, 1.44191656, 0.34299726, 1.79267934, 1.40455406],\n",
       "        [2.04553112, 1.40161133, 2.29023623, 1.85373814, 1.43673815],\n",
       "        [3.62941508, 1.41624465, 1.28897968, 1.83102505, 2.98174241]]),\n",
       " 1.7041626489300525)"
      ]
     },
     "execution_count": 13,
     "metadata": {},
     "output_type": "execute_result"
    }
   ],
   "source": [
    "# Compute cluster centers\n",
    "kmeans_whiten = kmeans(obs = scaled_data, k_or_guess = 3, iter = 20, check_finite = True)\n",
    "kmeans_whiten"
   ]
  },
  {
   "cell_type": "code",
   "execution_count": 14,
   "metadata": {},
   "outputs": [
    {
     "name": "stdout",
     "output_type": "stream",
     "text": [
      "[2 0 0 ... 1 1 1]\n",
      "[2.20854534 1.53458331 1.71338146 ... 1.43045194 0.51820887 2.10387789]\n"
     ]
    }
   ],
   "source": [
    "# Generate cluster centers and labels\n",
    "centroid_numeric, label_numeric = kmeans_whiten\n",
    "code_numeric, dist_numeric = vq( obs = scaled_data, code_book = centroid_numeric, check_finite = True)\n",
    "print(code_numeric)\n",
    "print(dist_numeric)"
   ]
  },
  {
   "cell_type": "code",
   "execution_count": 15,
   "metadata": {},
   "outputs": [
    {
     "name": "stdout",
     "output_type": "stream",
     "text": [
      "[[3.49667845 1.21014847 0.34914378 1.80887117 2.82824409]\n",
      " [2.47343788 3.53930528 1.20343011 1.93927796 1.75859451]\n",
      " [1.81204316 1.14405517 0.34779986 1.79378169 1.28673804]\n",
      " [1.78761271 1.1665773  2.27931701 1.84206836 1.27458938]\n",
      " [3.47758816 1.21188395 2.27285471 1.80875647 2.75186428]]\n"
     ]
    }
   ],
   "source": [
    "# Find 5 clusters in the data\n",
    "code_book, distortion = kmeans(scaled_data, 5)\n",
    "print(code_book)\n"
   ]
  },
  {
   "cell_type": "code",
   "execution_count": 16,
   "metadata": {},
   "outputs": [
    {
     "name": "stdout",
     "output_type": "stream",
     "text": [
      "        Age    Income  Initial_days       Zip  Additional_charges\n",
      "0  3.496678  1.210148      0.349144  1.808871            2.828244\n",
      "1  2.473438  3.539305      1.203430  1.939278            1.758595\n",
      "2  1.812043  1.144055      0.347800  1.793782            1.286738\n",
      "3  1.787613  1.166577      2.279317  1.842068            1.274589\n",
      "4  3.477588  1.211884      2.272855  1.808756            2.751864\n"
     ]
    }
   ],
   "source": [
    "#Convert the codebook array to a dataframe for visualization\n",
    "df_codebook = pd.DataFrame(code_book, columns = ['Age', 'Income', 'Initial_days', 'Zip', 'Additional_charges'])\n",
    "print(df_codebook)"
   ]
  },
  {
   "cell_type": "code",
   "execution_count": 17,
   "metadata": {},
   "outputs": [
    {
     "data": {
      "image/png": "[encoded data removed]",
      "text/plain": [
       "<Figure size 640x480 with 1 Axes>"
      ]
     },
     "metadata": {},
     "output_type": "display_data"
    }
   ],
   "source": [
    "plt.scatter(scaled_data.iloc[:, 0], scaled_data.iloc[:, 4])\n",
    "plt.scatter(df_codebook.iloc[:, 0], df_codebook.iloc[:, 4], c='r')\n",
    "plt.show()"
   ]
  },
  {
   "cell_type": "code",
   "execution_count": 18,
   "metadata": {},
   "outputs": [],
   "source": [
    "#Elbow method: Declaring variables for use\n",
    "distortions = []\n",
    "num_cluster = range(1, 10)"
   ]
  },
  {
   "cell_type": "code",
   "execution_count": 19,
   "metadata": {},
   "outputs": [],
   "source": [
    "#Populating distortions for various clusters\n",
    "for i in num_cluster:\n",
    "    centoids, distortion = kmeans(scaled_data, i)\n",
    "    distortions.append(distortion)"
   ]
  },
  {
   "cell_type": "code",
   "execution_count": 20,
   "metadata": {},
   "outputs": [
    {
     "data": {
      "image/png": "[encoded data removed]",
      "text/plain": [
       "<Figure size 640x480 with 1 Axes>"
      ]
     },
     "metadata": {},
     "output_type": "display_data"
    }
   ],
   "source": [
    "#Plotting elbow plot data\n",
    "elbow_plot_data = pd.DataFrame({'num_cluster': num_cluster, 'distortions': distortions})\n",
    "sns.lineplot(x = 'num_cluster', y = 'distortions', data = elbow_plot_data)\n",
    "plt.show()"
   ]
  }
 ],
 "metadata": {
  "kernelspec": {
   "display_name": "Python 3.11.0 64-bit",
   "language": "python",
   "name": "python3"
  },
  "language_info": {
   "codemirror_mode": {
    "name": "ipython",
    "version": 3
   },
   "file_extension": ".py",
   "mimetype": "text/x-python",
   "name": "python",
   "nbconvert_exporter": "python",
   "pygments_lexer": "ipython3",
   "version": "3.11.0"
  },
  "orig_nbformat": 4,
  "vscode": {
   "interpreter": {
    "hash": "811bbdf3489093e57429da9e6c98da378eba9c58dc1a87ca0c761486bd09ff45"
   }
  }
 },
 "nbformat": 4,
 "nbformat_minor": 2
}
