{
 "cells": [
  {
   "cell_type": "code",
   "execution_count": 40,
   "metadata": {},
   "outputs": [],
   "source": [
    "import pandas as pd\n",
    "import numpy as np\n",
    "import seaborn as sns\n",
    "import matplotlib.pyplot as plt\n",
    "from scipy.cluster.vq import kmeans, vq, whiten"
   ]
  },
  {
   "cell_type": "code",
   "execution_count": 41,
   "metadata": {},
   "outputs": [],
   "source": [
    "df = pd.read_csv('E:/HDD Documents/HDD Documents/School/WGU/medical/medical_clean.csv')"
   ]
  },
  {
   "cell_type": "code",
   "execution_count": 42,
   "metadata": {},
   "outputs": [],
   "source": [
    "df = df[['Age', 'Income','Initial_days', 'BackPain','Asthma']]"
   ]
  },
  {
   "cell_type": "code",
   "execution_count": 43,
   "metadata": {},
   "outputs": [],
   "source": [
    "df['Income'] = df['Income'].round(0).astype(int)\n",
    "df['Initial_days'] = df['Initial_days'].round(0).astype(int)\n",
    "df = df.replace(to_replace = ['No', 'Yes'], value = [0, 1])"
   ]
  },
  {
   "cell_type": "code",
   "execution_count": 44,
   "metadata": {},
   "outputs": [
    {
     "data": {
      "text/plain": [
       "Age             False\n",
       "Income          False\n",
       "Initial_days    False\n",
       "BackPain        False\n",
       "Asthma          False\n",
       "dtype: bool"
      ]
     },
     "execution_count": 44,
     "metadata": {},
     "output_type": "execute_result"
    }
   ],
   "source": [
    "df.isna().any()"
   ]
  },
  {
   "cell_type": "code",
   "execution_count": 45,
   "metadata": {},
   "outputs": [
    {
     "data": {
      "text/html": [
       "<div>\n",
       "<style scoped>\n",
       "    .dataframe tbody tr th:only-of-type {\n",
       "        vertical-align: middle;\n",
       "    }\n",
       "\n",
       "    .dataframe tbody tr th {\n",
       "        vertical-align: top;\n",
       "    }\n",
       "\n",
       "    .dataframe thead th {\n",
       "        text-align: right;\n",
       "    }\n",
       "</style>\n",
       "<table border=\"1\" class=\"dataframe\">\n",
       "  <thead>\n",
       "    <tr style=\"text-align: right;\">\n",
       "      <th></th>\n",
       "      <th>Age</th>\n",
       "      <th>Income</th>\n",
       "      <th>Initial_days</th>\n",
       "      <th>BackPain</th>\n",
       "      <th>Asthma</th>\n",
       "    </tr>\n",
       "  </thead>\n",
       "  <tbody>\n",
       "    <tr>\n",
       "      <th>count</th>\n",
       "      <td>10000.000000</td>\n",
       "      <td>10000.000000</td>\n",
       "      <td>10000.000000</td>\n",
       "      <td>10000.000000</td>\n",
       "      <td>10000.00000</td>\n",
       "    </tr>\n",
       "    <tr>\n",
       "      <th>mean</th>\n",
       "      <td>53.511700</td>\n",
       "      <td>40490.498900</td>\n",
       "      <td>34.455300</td>\n",
       "      <td>0.411400</td>\n",
       "      <td>0.28930</td>\n",
       "    </tr>\n",
       "    <tr>\n",
       "      <th>std</th>\n",
       "      <td>20.638538</td>\n",
       "      <td>28521.156376</td>\n",
       "      <td>26.311671</td>\n",
       "      <td>0.492112</td>\n",
       "      <td>0.45346</td>\n",
       "    </tr>\n",
       "    <tr>\n",
       "      <th>min</th>\n",
       "      <td>18.000000</td>\n",
       "      <td>154.000000</td>\n",
       "      <td>1.000000</td>\n",
       "      <td>0.000000</td>\n",
       "      <td>0.00000</td>\n",
       "    </tr>\n",
       "    <tr>\n",
       "      <th>25%</th>\n",
       "      <td>36.000000</td>\n",
       "      <td>19598.500000</td>\n",
       "      <td>8.000000</td>\n",
       "      <td>0.000000</td>\n",
       "      <td>0.00000</td>\n",
       "    </tr>\n",
       "    <tr>\n",
       "      <th>50%</th>\n",
       "      <td>53.000000</td>\n",
       "      <td>33768.500000</td>\n",
       "      <td>36.000000</td>\n",
       "      <td>0.000000</td>\n",
       "      <td>0.00000</td>\n",
       "    </tr>\n",
       "    <tr>\n",
       "      <th>75%</th>\n",
       "      <td>71.000000</td>\n",
       "      <td>54296.500000</td>\n",
       "      <td>61.000000</td>\n",
       "      <td>1.000000</td>\n",
       "      <td>1.00000</td>\n",
       "    </tr>\n",
       "    <tr>\n",
       "      <th>max</th>\n",
       "      <td>89.000000</td>\n",
       "      <td>207249.000000</td>\n",
       "      <td>72.000000</td>\n",
       "      <td>1.000000</td>\n",
       "      <td>1.00000</td>\n",
       "    </tr>\n",
       "  </tbody>\n",
       "</table>\n",
       "</div>"
      ],
      "text/plain": [
       "                Age         Income  Initial_days      BackPain       Asthma\n",
       "count  10000.000000   10000.000000  10000.000000  10000.000000  10000.00000\n",
       "mean      53.511700   40490.498900     34.455300      0.411400      0.28930\n",
       "std       20.638538   28521.156376     26.311671      0.492112      0.45346\n",
       "min       18.000000     154.000000      1.000000      0.000000      0.00000\n",
       "25%       36.000000   19598.500000      8.000000      0.000000      0.00000\n",
       "50%       53.000000   33768.500000     36.000000      0.000000      0.00000\n",
       "75%       71.000000   54296.500000     61.000000      1.000000      1.00000\n",
       "max       89.000000  207249.000000     72.000000      1.000000      1.00000"
      ]
     },
     "execution_count": 45,
     "metadata": {},
     "output_type": "execute_result"
    }
   ],
   "source": [
    "df.describe()"
   ]
  },
  {
   "cell_type": "code",
   "execution_count": 46,
   "metadata": {},
   "outputs": [
    {
     "data": {
      "text/html": [
       "<div>\n",
       "<style scoped>\n",
       "    .dataframe tbody tr th:only-of-type {\n",
       "        vertical-align: middle;\n",
       "    }\n",
       "\n",
       "    .dataframe tbody tr th {\n",
       "        vertical-align: top;\n",
       "    }\n",
       "\n",
       "    .dataframe thead th {\n",
       "        text-align: right;\n",
       "    }\n",
       "</style>\n",
       "<table border=\"1\" class=\"dataframe\">\n",
       "  <thead>\n",
       "    <tr style=\"text-align: right;\">\n",
       "      <th></th>\n",
       "      <th>Age</th>\n",
       "      <th>Income</th>\n",
       "      <th>Initial_days</th>\n",
       "      <th>BackPain</th>\n",
       "      <th>Asthma</th>\n",
       "    </tr>\n",
       "  </thead>\n",
       "  <tbody>\n",
       "    <tr>\n",
       "      <th>0</th>\n",
       "      <td>53</td>\n",
       "      <td>86576</td>\n",
       "      <td>11</td>\n",
       "      <td>1</td>\n",
       "      <td>1</td>\n",
       "    </tr>\n",
       "    <tr>\n",
       "      <th>1</th>\n",
       "      <td>51</td>\n",
       "      <td>46806</td>\n",
       "      <td>15</td>\n",
       "      <td>0</td>\n",
       "      <td>0</td>\n",
       "    </tr>\n",
       "    <tr>\n",
       "      <th>2</th>\n",
       "      <td>53</td>\n",
       "      <td>14370</td>\n",
       "      <td>5</td>\n",
       "      <td>0</td>\n",
       "      <td>0</td>\n",
       "    </tr>\n",
       "    <tr>\n",
       "      <th>3</th>\n",
       "      <td>78</td>\n",
       "      <td>39741</td>\n",
       "      <td>2</td>\n",
       "      <td>0</td>\n",
       "      <td>1</td>\n",
       "    </tr>\n",
       "    <tr>\n",
       "      <th>4</th>\n",
       "      <td>22</td>\n",
       "      <td>1210</td>\n",
       "      <td>1</td>\n",
       "      <td>0</td>\n",
       "      <td>0</td>\n",
       "    </tr>\n",
       "  </tbody>\n",
       "</table>\n",
       "</div>"
      ],
      "text/plain": [
       "   Age  Income  Initial_days  BackPain  Asthma\n",
       "0   53   86576            11         1       1\n",
       "1   51   46806            15         0       0\n",
       "2   53   14370             5         0       0\n",
       "3   78   39741             2         0       1\n",
       "4   22    1210             1         0       0"
      ]
     },
     "execution_count": 46,
     "metadata": {},
     "output_type": "execute_result"
    }
   ],
   "source": [
    "df.head()"
   ]
  },
  {
   "cell_type": "code",
   "execution_count": 47,
   "metadata": {},
   "outputs": [
    {
     "data": {
      "text/html": [
       "<div>\n",
       "<style scoped>\n",
       "    .dataframe tbody tr th:only-of-type {\n",
       "        vertical-align: middle;\n",
       "    }\n",
       "\n",
       "    .dataframe tbody tr th {\n",
       "        vertical-align: top;\n",
       "    }\n",
       "\n",
       "    .dataframe thead th {\n",
       "        text-align: right;\n",
       "    }\n",
       "</style>\n",
       "<table border=\"1\" class=\"dataframe\">\n",
       "  <thead>\n",
       "    <tr style=\"text-align: right;\">\n",
       "      <th></th>\n",
       "      <th>Age</th>\n",
       "      <th>Income</th>\n",
       "      <th>Initial_days</th>\n",
       "      <th>BackPain</th>\n",
       "      <th>Asthma</th>\n",
       "    </tr>\n",
       "  </thead>\n",
       "  <tbody>\n",
       "    <tr>\n",
       "      <th>0</th>\n",
       "      <td>2.568140</td>\n",
       "      <td>3.035653</td>\n",
       "      <td>0.418086</td>\n",
       "      <td>2.032159</td>\n",
       "      <td>2.205376</td>\n",
       "    </tr>\n",
       "    <tr>\n",
       "      <th>1</th>\n",
       "      <td>2.471229</td>\n",
       "      <td>1.641180</td>\n",
       "      <td>0.570118</td>\n",
       "      <td>0.000000</td>\n",
       "      <td>0.000000</td>\n",
       "    </tr>\n",
       "    <tr>\n",
       "      <th>2</th>\n",
       "      <td>2.568140</td>\n",
       "      <td>0.503862</td>\n",
       "      <td>0.190039</td>\n",
       "      <td>0.000000</td>\n",
       "      <td>0.000000</td>\n",
       "    </tr>\n",
       "    <tr>\n",
       "      <th>3</th>\n",
       "      <td>3.779526</td>\n",
       "      <td>1.393456</td>\n",
       "      <td>0.076016</td>\n",
       "      <td>0.000000</td>\n",
       "      <td>2.205376</td>\n",
       "    </tr>\n",
       "    <tr>\n",
       "      <th>4</th>\n",
       "      <td>1.066020</td>\n",
       "      <td>0.042427</td>\n",
       "      <td>0.038008</td>\n",
       "      <td>0.000000</td>\n",
       "      <td>0.000000</td>\n",
       "    </tr>\n",
       "    <tr>\n",
       "      <th>...</th>\n",
       "      <td>...</td>\n",
       "      <td>...</td>\n",
       "      <td>...</td>\n",
       "      <td>...</td>\n",
       "      <td>...</td>\n",
       "    </tr>\n",
       "    <tr>\n",
       "      <th>9995</th>\n",
       "      <td>1.211387</td>\n",
       "      <td>1.611796</td>\n",
       "      <td>1.976408</td>\n",
       "      <td>0.000000</td>\n",
       "      <td>0.000000</td>\n",
       "    </tr>\n",
       "    <tr>\n",
       "      <th>9996</th>\n",
       "      <td>4.215626</td>\n",
       "      <td>0.525356</td>\n",
       "      <td>2.622542</td>\n",
       "      <td>0.000000</td>\n",
       "      <td>2.205376</td>\n",
       "    </tr>\n",
       "    <tr>\n",
       "      <th>9997</th>\n",
       "      <td>2.180496</td>\n",
       "      <td>2.311312</td>\n",
       "      <td>2.660549</td>\n",
       "      <td>0.000000</td>\n",
       "      <td>0.000000</td>\n",
       "    </tr>\n",
       "    <tr>\n",
       "      <th>9998</th>\n",
       "      <td>2.083585</td>\n",
       "      <td>1.041454</td>\n",
       "      <td>2.394494</td>\n",
       "      <td>2.032159</td>\n",
       "      <td>0.000000</td>\n",
       "    </tr>\n",
       "    <tr>\n",
       "      <th>9999</th>\n",
       "      <td>3.391883</td>\n",
       "      <td>2.197882</td>\n",
       "      <td>2.698557</td>\n",
       "      <td>0.000000</td>\n",
       "      <td>0.000000</td>\n",
       "    </tr>\n",
       "  </tbody>\n",
       "</table>\n",
       "<p>10000 rows × 5 columns</p>\n",
       "</div>"
      ],
      "text/plain": [
       "           Age    Income  Initial_days  BackPain    Asthma\n",
       "0     2.568140  3.035653      0.418086  2.032159  2.205376\n",
       "1     2.471229  1.641180      0.570118  0.000000  0.000000\n",
       "2     2.568140  0.503862      0.190039  0.000000  0.000000\n",
       "3     3.779526  1.393456      0.076016  0.000000  2.205376\n",
       "4     1.066020  0.042427      0.038008  0.000000  0.000000\n",
       "...        ...       ...           ...       ...       ...\n",
       "9995  1.211387  1.611796      1.976408  0.000000  0.000000\n",
       "9996  4.215626  0.525356      2.622542  0.000000  2.205376\n",
       "9997  2.180496  2.311312      2.660549  0.000000  0.000000\n",
       "9998  2.083585  1.041454      2.394494  2.032159  0.000000\n",
       "9999  3.391883  2.197882      2.698557  0.000000  0.000000\n",
       "\n",
       "[10000 rows x 5 columns]"
      ]
     },
     "execution_count": 47,
     "metadata": {},
     "output_type": "execute_result"
    }
   ],
   "source": [
    "# Use the whiten() function to standardize the data\n",
    "whiten_numeric = pd.DataFrame( data = whiten(obs = df, check_finite = True), columns = df.columns)\n",
    "whiten_numeric"
   ]
  },
  {
   "cell_type": "code",
   "execution_count": 48,
   "metadata": {},
   "outputs": [
    {
     "data": {
      "image/png": "[encoded data removed]",
      "text/plain": [
       "<Figure size 640x480 with 1 Axes>"
      ]
     },
     "metadata": {},
     "output_type": "display_data"
    }
   ],
   "source": [
    "#Plot original data\n",
    "plt.plot(df, label='original')\n",
    "plt.show()\n"
   ]
  },
  {
   "cell_type": "code",
   "execution_count": 49,
   "metadata": {},
   "outputs": [
    {
     "data": {
      "image/png": "[encoded data removed]",
      "text/plain": [
       "<Figure size 640x480 with 1 Axes>"
      ]
     },
     "metadata": {},
     "output_type": "display_data"
    }
   ],
   "source": [
    "# Plot scaled data\n",
    "plt.plot(whiten_numeric, label = 'scaled')\n",
    "plt.legend()\n",
    "plt.show()"
   ]
  },
  {
   "cell_type": "code",
   "execution_count": 50,
   "metadata": {},
   "outputs": [
    {
     "name": "stdout",
     "output_type": "stream",
     "text": [
      "['Age', 1.0000500037503124]\n",
      "['Income', 1.0000500037503126]\n",
      "['Initial_days', 1.0000500037503124]\n",
      "['BackPain', 1.0000500037503124]\n",
      "['Asthma', 1.0000500037503126]\n"
     ]
    }
   ],
   "source": [
    "#Sanity check to make sure the standard deviation is the same, aka the data is normalized\n",
    "for i in whiten_numeric.columns:\n",
    "    print([i, whiten_numeric[i].std()])"
   ]
  },
  {
   "cell_type": "code",
   "execution_count": 51,
   "metadata": {},
   "outputs": [
    {
     "data": {
      "text/html": [
       "<div>\n",
       "<style scoped>\n",
       "    .dataframe tbody tr th:only-of-type {\n",
       "        vertical-align: middle;\n",
       "    }\n",
       "\n",
       "    .dataframe tbody tr th {\n",
       "        vertical-align: top;\n",
       "    }\n",
       "\n",
       "    .dataframe thead th {\n",
       "        text-align: right;\n",
       "    }\n",
       "</style>\n",
       "<table border=\"1\" class=\"dataframe\">\n",
       "  <thead>\n",
       "    <tr style=\"text-align: right;\">\n",
       "      <th></th>\n",
       "      <th>Age</th>\n",
       "      <th>Income</th>\n",
       "      <th>Initial_days</th>\n",
       "      <th>BackPain</th>\n",
       "      <th>Asthma</th>\n",
       "    </tr>\n",
       "  </thead>\n",
       "  <tbody>\n",
       "    <tr>\n",
       "      <th>count</th>\n",
       "      <td>10000.000000</td>\n",
       "      <td>10000.000000</td>\n",
       "      <td>10000.000000</td>\n",
       "      <td>10000.000000</td>\n",
       "      <td>10000.000000</td>\n",
       "    </tr>\n",
       "    <tr>\n",
       "      <th>mean</th>\n",
       "      <td>2.592934</td>\n",
       "      <td>1.419736</td>\n",
       "      <td>1.309572</td>\n",
       "      <td>0.836030</td>\n",
       "      <td>0.638015</td>\n",
       "    </tr>\n",
       "    <tr>\n",
       "      <th>std</th>\n",
       "      <td>1.000050</td>\n",
       "      <td>1.000050</td>\n",
       "      <td>1.000050</td>\n",
       "      <td>1.000050</td>\n",
       "      <td>1.000050</td>\n",
       "    </tr>\n",
       "    <tr>\n",
       "      <th>min</th>\n",
       "      <td>0.872198</td>\n",
       "      <td>0.005400</td>\n",
       "      <td>0.038008</td>\n",
       "      <td>0.000000</td>\n",
       "      <td>0.000000</td>\n",
       "    </tr>\n",
       "    <tr>\n",
       "      <th>25%</th>\n",
       "      <td>1.744397</td>\n",
       "      <td>0.687191</td>\n",
       "      <td>0.304063</td>\n",
       "      <td>0.000000</td>\n",
       "      <td>0.000000</td>\n",
       "    </tr>\n",
       "    <tr>\n",
       "      <th>50%</th>\n",
       "      <td>2.568140</td>\n",
       "      <td>1.184040</td>\n",
       "      <td>1.368283</td>\n",
       "      <td>0.000000</td>\n",
       "      <td>0.000000</td>\n",
       "    </tr>\n",
       "    <tr>\n",
       "      <th>75%</th>\n",
       "      <td>3.440338</td>\n",
       "      <td>1.903822</td>\n",
       "      <td>2.318479</td>\n",
       "      <td>2.032159</td>\n",
       "      <td>2.205376</td>\n",
       "    </tr>\n",
       "    <tr>\n",
       "      <th>max</th>\n",
       "      <td>4.312537</td>\n",
       "      <td>7.266864</td>\n",
       "      <td>2.736565</td>\n",
       "      <td>2.032159</td>\n",
       "      <td>2.205376</td>\n",
       "    </tr>\n",
       "  </tbody>\n",
       "</table>\n",
       "</div>"
      ],
      "text/plain": [
       "                Age        Income  Initial_days      BackPain        Asthma\n",
       "count  10000.000000  10000.000000  10000.000000  10000.000000  10000.000000\n",
       "mean       2.592934      1.419736      1.309572      0.836030      0.638015\n",
       "std        1.000050      1.000050      1.000050      1.000050      1.000050\n",
       "min        0.872198      0.005400      0.038008      0.000000      0.000000\n",
       "25%        1.744397      0.687191      0.304063      0.000000      0.000000\n",
       "50%        2.568140      1.184040      1.368283      0.000000      0.000000\n",
       "75%        3.440338      1.903822      2.318479      2.032159      2.205376\n",
       "max        4.312537      7.266864      2.736565      2.032159      2.205376"
      ]
     },
     "execution_count": 51,
     "metadata": {},
     "output_type": "execute_result"
    }
   ],
   "source": [
    "whiten_numeric.describe()"
   ]
  },
  {
   "cell_type": "code",
   "execution_count": 52,
   "metadata": {},
   "outputs": [
    {
     "data": {
      "text/plain": [
       "(array([[2.62356529, 1.42079176, 1.34151145, 2.0321592 , 0.        ],\n",
       "        [2.56198941, 1.41266048, 1.30194239, 0.        , 0.        ],\n",
       "        [2.6073999 , 1.42899074, 1.28875904, 0.8583818 , 2.20537591]]),\n",
       " 1.731941833689624)"
      ]
     },
     "execution_count": 52,
     "metadata": {},
     "output_type": "execute_result"
    }
   ],
   "source": [
    "# Compute cluster centers\n",
    "kmeans_whiten = kmeans(obs = whiten_numeric, k_or_guess = 3, iter = 20, thresh = 1e-05, check_finite = True)\n",
    "kmeans_whiten"
   ]
  },
  {
   "cell_type": "code",
   "execution_count": 53,
   "metadata": {},
   "outputs": [],
   "source": [
    "# Generate cluster centers and labels\n",
    "centroid_numeric, label_numeric = kmeans_whiten\n",
    "code_numeric, dist_numeric = vq( obs = whiten_numeric, code_book = centroid_numeric, check_finite = True)"
   ]
  },
  {
   "cell_type": "code",
   "execution_count": 54,
   "metadata": {},
   "outputs": [],
   "source": [
    "#Elbow method: Declaring variables for use\n",
    "distortions = []\n",
    "num_cluster = range(2, 7)"
   ]
  },
  {
   "cell_type": "code",
   "execution_count": 57,
   "metadata": {},
   "outputs": [],
   "source": [
    "#Populating distortions for various clusters\n",
    "for i in num_cluster:\n",
    "    centoids, distortion = kmeans(whiten_numeric, i)\n",
    "    distortions.append(distortion)"
   ]
  },
  {
   "cell_type": "code",
   "execution_count": 58,
   "metadata": {},
   "outputs": [
    {
     "data": {
      "image/png": "[encoded data removed]",
      "text/plain": [
       "<Figure size 640x480 with 1 Axes>"
      ]
     },
     "metadata": {},
     "output_type": "display_data"
    }
   ],
   "source": [
    "#Plotting elbow plot data\n",
    "elbow_plot_data = pd.DataFrame({'num_cluster': num_cluster, 'distortions': distortions})\n",
    "sns.lineplot(x = 'num_cluster', y = 'distortions', data = elbow_plot_data)\n",
    "plt.show()"
   ]
  }
 ],
 "metadata": {
  "kernelspec": {
   "display_name": "Python 3.11.0 64-bit",
   "language": "python",
   "name": "python3"
  },
  "language_info": {
   "codemirror_mode": {
    "name": "ipython",
    "version": 3
   },
   "file_extension": ".py",
   "mimetype": "text/x-python",
   "name": "python",
   "nbconvert_exporter": "python",
   "pygments_lexer": "ipython3",
   "version": "3.11.0"
  },
  "orig_nbformat": 4,
  "vscode": {
   "interpreter": {
    "hash": "811bbdf3489093e57429da9e6c98da378eba9c58dc1a87ca0c761486bd09ff45"
   }
  }
 },
 "nbformat": 4,
 "nbformat_minor": 2
}
