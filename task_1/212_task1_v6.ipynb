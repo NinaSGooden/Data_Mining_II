{
 "cells": [
  {
   "cell_type": "code",
   "execution_count": 41,
   "metadata": {},
   "outputs": [],
   "source": [
    "import pandas as pd\n",
    "import numpy as np\n",
    "import seaborn as sns\n",
    "import matplotlib.pyplot as plt\n",
    "from scipy.cluster.vq import kmeans, vq, whiten"
   ]
  },
  {
   "cell_type": "code",
   "execution_count": 42,
   "metadata": {},
   "outputs": [],
   "source": [
    "df = pd.read_csv('E:/HDD Documents/HDD Documents/School/WGU/medical/medical_clean.csv')"
   ]
  },
  {
   "cell_type": "code",
   "execution_count": 43,
   "metadata": {},
   "outputs": [],
   "source": [
    "df = df[['Children', 'Age', 'Income', 'VitD_levels', 'Doc_visits', 'Full_meals_eaten', 'Initial_days', 'Additional_charges']]"
   ]
  },
  {
   "cell_type": "code",
   "execution_count": 44,
   "metadata": {},
   "outputs": [
    {
     "data": {
      "text/plain": [
       "Children              False\n",
       "Age                   False\n",
       "Income                False\n",
       "VitD_levels           False\n",
       "Doc_visits            False\n",
       "Full_meals_eaten      False\n",
       "Initial_days          False\n",
       "Additional_charges    False\n",
       "dtype: bool"
      ]
     },
     "execution_count": 44,
     "metadata": {},
     "output_type": "execute_result"
    }
   ],
   "source": [
    "df.isna().any()"
   ]
  },
  {
   "cell_type": "code",
   "execution_count": 45,
   "metadata": {},
   "outputs": [
    {
     "data": {
      "text/html": [
       "<div>\n",
       "<style scoped>\n",
       "    .dataframe tbody tr th:only-of-type {\n",
       "        vertical-align: middle;\n",
       "    }\n",
       "\n",
       "    .dataframe tbody tr th {\n",
       "        vertical-align: top;\n",
       "    }\n",
       "\n",
       "    .dataframe thead th {\n",
       "        text-align: right;\n",
       "    }\n",
       "</style>\n",
       "<table border=\"1\" class=\"dataframe\">\n",
       "  <thead>\n",
       "    <tr style=\"text-align: right;\">\n",
       "      <th></th>\n",
       "      <th>Children</th>\n",
       "      <th>Age</th>\n",
       "      <th>Income</th>\n",
       "      <th>VitD_levels</th>\n",
       "      <th>Doc_visits</th>\n",
       "      <th>Full_meals_eaten</th>\n",
       "      <th>Initial_days</th>\n",
       "      <th>Additional_charges</th>\n",
       "    </tr>\n",
       "  </thead>\n",
       "  <tbody>\n",
       "    <tr>\n",
       "      <th>count</th>\n",
       "      <td>10000.000000</td>\n",
       "      <td>10000.000000</td>\n",
       "      <td>10000.000000</td>\n",
       "      <td>10000.000000</td>\n",
       "      <td>10000.000000</td>\n",
       "      <td>10000.000000</td>\n",
       "      <td>10000.000000</td>\n",
       "      <td>10000.000000</td>\n",
       "    </tr>\n",
       "    <tr>\n",
       "      <th>mean</th>\n",
       "      <td>2.097200</td>\n",
       "      <td>53.511700</td>\n",
       "      <td>40490.495160</td>\n",
       "      <td>17.964262</td>\n",
       "      <td>5.012200</td>\n",
       "      <td>1.001400</td>\n",
       "      <td>34.455299</td>\n",
       "      <td>12934.528587</td>\n",
       "    </tr>\n",
       "    <tr>\n",
       "      <th>std</th>\n",
       "      <td>2.163659</td>\n",
       "      <td>20.638538</td>\n",
       "      <td>28521.153293</td>\n",
       "      <td>2.017231</td>\n",
       "      <td>1.045734</td>\n",
       "      <td>1.008117</td>\n",
       "      <td>26.309341</td>\n",
       "      <td>6542.601544</td>\n",
       "    </tr>\n",
       "    <tr>\n",
       "      <th>min</th>\n",
       "      <td>0.000000</td>\n",
       "      <td>18.000000</td>\n",
       "      <td>154.080000</td>\n",
       "      <td>9.806483</td>\n",
       "      <td>1.000000</td>\n",
       "      <td>0.000000</td>\n",
       "      <td>1.001981</td>\n",
       "      <td>3125.703000</td>\n",
       "    </tr>\n",
       "    <tr>\n",
       "      <th>25%</th>\n",
       "      <td>0.000000</td>\n",
       "      <td>36.000000</td>\n",
       "      <td>19598.775000</td>\n",
       "      <td>16.626439</td>\n",
       "      <td>4.000000</td>\n",
       "      <td>0.000000</td>\n",
       "      <td>7.896215</td>\n",
       "      <td>7986.487755</td>\n",
       "    </tr>\n",
       "    <tr>\n",
       "      <th>50%</th>\n",
       "      <td>1.000000</td>\n",
       "      <td>53.000000</td>\n",
       "      <td>33768.420000</td>\n",
       "      <td>17.951122</td>\n",
       "      <td>5.000000</td>\n",
       "      <td>1.000000</td>\n",
       "      <td>35.836244</td>\n",
       "      <td>11573.977735</td>\n",
       "    </tr>\n",
       "    <tr>\n",
       "      <th>75%</th>\n",
       "      <td>3.000000</td>\n",
       "      <td>71.000000</td>\n",
       "      <td>54296.402500</td>\n",
       "      <td>19.347963</td>\n",
       "      <td>6.000000</td>\n",
       "      <td>2.000000</td>\n",
       "      <td>61.161020</td>\n",
       "      <td>15626.490000</td>\n",
       "    </tr>\n",
       "    <tr>\n",
       "      <th>max</th>\n",
       "      <td>10.000000</td>\n",
       "      <td>89.000000</td>\n",
       "      <td>207249.100000</td>\n",
       "      <td>26.394449</td>\n",
       "      <td>9.000000</td>\n",
       "      <td>7.000000</td>\n",
       "      <td>71.981490</td>\n",
       "      <td>30566.070000</td>\n",
       "    </tr>\n",
       "  </tbody>\n",
       "</table>\n",
       "</div>"
      ],
      "text/plain": [
       "           Children           Age         Income   VitD_levels    Doc_visits  \\\n",
       "count  10000.000000  10000.000000   10000.000000  10000.000000  10000.000000   \n",
       "mean       2.097200     53.511700   40490.495160     17.964262      5.012200   \n",
       "std        2.163659     20.638538   28521.153293      2.017231      1.045734   \n",
       "min        0.000000     18.000000     154.080000      9.806483      1.000000   \n",
       "25%        0.000000     36.000000   19598.775000     16.626439      4.000000   \n",
       "50%        1.000000     53.000000   33768.420000     17.951122      5.000000   \n",
       "75%        3.000000     71.000000   54296.402500     19.347963      6.000000   \n",
       "max       10.000000     89.000000  207249.100000     26.394449      9.000000   \n",
       "\n",
       "       Full_meals_eaten  Initial_days  Additional_charges  \n",
       "count      10000.000000  10000.000000        10000.000000  \n",
       "mean           1.001400     34.455299        12934.528587  \n",
       "std            1.008117     26.309341         6542.601544  \n",
       "min            0.000000      1.001981         3125.703000  \n",
       "25%            0.000000      7.896215         7986.487755  \n",
       "50%            1.000000     35.836244        11573.977735  \n",
       "75%            2.000000     61.161020        15626.490000  \n",
       "max            7.000000     71.981490        30566.070000  "
      ]
     },
     "execution_count": 45,
     "metadata": {},
     "output_type": "execute_result"
    }
   ],
   "source": [
    "df.describe()"
   ]
  },
  {
   "cell_type": "code",
   "execution_count": 46,
   "metadata": {},
   "outputs": [
    {
     "data": {
      "text/html": [
       "<div>\n",
       "<style scoped>\n",
       "    .dataframe tbody tr th:only-of-type {\n",
       "        vertical-align: middle;\n",
       "    }\n",
       "\n",
       "    .dataframe tbody tr th {\n",
       "        vertical-align: top;\n",
       "    }\n",
       "\n",
       "    .dataframe thead th {\n",
       "        text-align: right;\n",
       "    }\n",
       "</style>\n",
       "<table border=\"1\" class=\"dataframe\">\n",
       "  <thead>\n",
       "    <tr style=\"text-align: right;\">\n",
       "      <th></th>\n",
       "      <th>Children</th>\n",
       "      <th>Age</th>\n",
       "      <th>Income</th>\n",
       "      <th>VitD_levels</th>\n",
       "      <th>Doc_visits</th>\n",
       "      <th>Full_meals_eaten</th>\n",
       "      <th>Initial_days</th>\n",
       "      <th>Additional_charges</th>\n",
       "    </tr>\n",
       "  </thead>\n",
       "  <tbody>\n",
       "    <tr>\n",
       "      <th>0</th>\n",
       "      <td>1</td>\n",
       "      <td>53</td>\n",
       "      <td>86575.93</td>\n",
       "      <td>19.141466</td>\n",
       "      <td>6</td>\n",
       "      <td>0</td>\n",
       "      <td>10.585770</td>\n",
       "      <td>17939.403420</td>\n",
       "    </tr>\n",
       "    <tr>\n",
       "      <th>1</th>\n",
       "      <td>3</td>\n",
       "      <td>51</td>\n",
       "      <td>46805.99</td>\n",
       "      <td>18.940352</td>\n",
       "      <td>4</td>\n",
       "      <td>2</td>\n",
       "      <td>15.129562</td>\n",
       "      <td>17612.998120</td>\n",
       "    </tr>\n",
       "    <tr>\n",
       "      <th>2</th>\n",
       "      <td>3</td>\n",
       "      <td>53</td>\n",
       "      <td>14370.14</td>\n",
       "      <td>18.057507</td>\n",
       "      <td>4</td>\n",
       "      <td>1</td>\n",
       "      <td>4.772177</td>\n",
       "      <td>17505.192460</td>\n",
       "    </tr>\n",
       "    <tr>\n",
       "      <th>3</th>\n",
       "      <td>0</td>\n",
       "      <td>78</td>\n",
       "      <td>39741.49</td>\n",
       "      <td>16.576858</td>\n",
       "      <td>4</td>\n",
       "      <td>1</td>\n",
       "      <td>1.714879</td>\n",
       "      <td>12993.437350</td>\n",
       "    </tr>\n",
       "    <tr>\n",
       "      <th>4</th>\n",
       "      <td>1</td>\n",
       "      <td>22</td>\n",
       "      <td>1209.56</td>\n",
       "      <td>17.439069</td>\n",
       "      <td>5</td>\n",
       "      <td>0</td>\n",
       "      <td>1.254807</td>\n",
       "      <td>3716.525786</td>\n",
       "    </tr>\n",
       "  </tbody>\n",
       "</table>\n",
       "</div>"
      ],
      "text/plain": [
       "   Children  Age    Income  VitD_levels  Doc_visits  Full_meals_eaten  \\\n",
       "0         1   53  86575.93    19.141466           6                 0   \n",
       "1         3   51  46805.99    18.940352           4                 2   \n",
       "2         3   53  14370.14    18.057507           4                 1   \n",
       "3         0   78  39741.49    16.576858           4                 1   \n",
       "4         1   22   1209.56    17.439069           5                 0   \n",
       "\n",
       "   Initial_days  Additional_charges  \n",
       "0     10.585770        17939.403420  \n",
       "1     15.129562        17612.998120  \n",
       "2      4.772177        17505.192460  \n",
       "3      1.714879        12993.437350  \n",
       "4      1.254807         3716.525786  "
      ]
     },
     "execution_count": 46,
     "metadata": {},
     "output_type": "execute_result"
    }
   ],
   "source": [
    "df.head()"
   ]
  },
  {
   "cell_type": "code",
   "execution_count": 47,
   "metadata": {},
   "outputs": [
    {
     "data": {
      "text/html": [
       "<div>\n",
       "<style scoped>\n",
       "    .dataframe tbody tr th:only-of-type {\n",
       "        vertical-align: middle;\n",
       "    }\n",
       "\n",
       "    .dataframe tbody tr th {\n",
       "        vertical-align: top;\n",
       "    }\n",
       "\n",
       "    .dataframe thead th {\n",
       "        text-align: right;\n",
       "    }\n",
       "</style>\n",
       "<table border=\"1\" class=\"dataframe\">\n",
       "  <thead>\n",
       "    <tr style=\"text-align: right;\">\n",
       "      <th></th>\n",
       "      <th>Children</th>\n",
       "      <th>Age</th>\n",
       "      <th>Income</th>\n",
       "      <th>VitD_levels</th>\n",
       "      <th>Doc_visits</th>\n",
       "      <th>Full_meals_eaten</th>\n",
       "      <th>Initial_days</th>\n",
       "      <th>Additional_charges</th>\n",
       "    </tr>\n",
       "  </thead>\n",
       "  <tbody>\n",
       "    <tr>\n",
       "      <th>0</th>\n",
       "      <td>0.462203</td>\n",
       "      <td>2.568140</td>\n",
       "      <td>3.035651</td>\n",
       "      <td>9.489455</td>\n",
       "      <td>5.737881</td>\n",
       "      <td>0.000000</td>\n",
       "      <td>0.402378</td>\n",
       "      <td>2.742074</td>\n",
       "    </tr>\n",
       "    <tr>\n",
       "      <th>1</th>\n",
       "      <td>1.386609</td>\n",
       "      <td>2.471229</td>\n",
       "      <td>1.641179</td>\n",
       "      <td>9.389752</td>\n",
       "      <td>3.825254</td>\n",
       "      <td>1.983996</td>\n",
       "      <td>0.575093</td>\n",
       "      <td>2.692183</td>\n",
       "    </tr>\n",
       "    <tr>\n",
       "      <th>2</th>\n",
       "      <td>1.386609</td>\n",
       "      <td>2.568140</td>\n",
       "      <td>0.503867</td>\n",
       "      <td>8.952078</td>\n",
       "      <td>3.825254</td>\n",
       "      <td>0.991998</td>\n",
       "      <td>0.181396</td>\n",
       "      <td>2.675704</td>\n",
       "    </tr>\n",
       "    <tr>\n",
       "      <th>3</th>\n",
       "      <td>0.000000</td>\n",
       "      <td>3.779526</td>\n",
       "      <td>1.393474</td>\n",
       "      <td>8.218041</td>\n",
       "      <td>3.825254</td>\n",
       "      <td>0.991998</td>\n",
       "      <td>0.065185</td>\n",
       "      <td>1.986073</td>\n",
       "    </tr>\n",
       "    <tr>\n",
       "      <th>4</th>\n",
       "      <td>0.462203</td>\n",
       "      <td>1.066020</td>\n",
       "      <td>0.042411</td>\n",
       "      <td>8.645485</td>\n",
       "      <td>4.781568</td>\n",
       "      <td>0.000000</td>\n",
       "      <td>0.047697</td>\n",
       "      <td>0.568079</td>\n",
       "    </tr>\n",
       "    <tr>\n",
       "      <th>...</th>\n",
       "      <td>...</td>\n",
       "      <td>...</td>\n",
       "      <td>...</td>\n",
       "      <td>...</td>\n",
       "      <td>...</td>\n",
       "      <td>...</td>\n",
       "      <td>...</td>\n",
       "      <td>...</td>\n",
       "    </tr>\n",
       "    <tr>\n",
       "      <th>9995</th>\n",
       "      <td>0.924406</td>\n",
       "      <td>1.211387</td>\n",
       "      <td>1.611783</td>\n",
       "      <td>8.418326</td>\n",
       "      <td>3.825254</td>\n",
       "      <td>1.983996</td>\n",
       "      <td>1.959905</td>\n",
       "      <td>1.364608</td>\n",
       "    </tr>\n",
       "    <tr>\n",
       "      <th>9996</th>\n",
       "      <td>1.848813</td>\n",
       "      <td>4.215626</td>\n",
       "      <td>0.525356</td>\n",
       "      <td>9.011327</td>\n",
       "      <td>4.781568</td>\n",
       "      <td>0.000000</td>\n",
       "      <td>2.610163</td>\n",
       "      <td>4.357376</td>\n",
       "    </tr>\n",
       "    <tr>\n",
       "      <th>9997</th>\n",
       "      <td>1.386609</td>\n",
       "      <td>2.180496</td>\n",
       "      <td>2.311306</td>\n",
       "      <td>8.491802</td>\n",
       "      <td>3.825254</td>\n",
       "      <td>1.983996</td>\n",
       "      <td>2.666646</td>\n",
       "      <td>2.335764</td>\n",
       "    </tr>\n",
       "    <tr>\n",
       "      <th>9998</th>\n",
       "      <td>1.386609</td>\n",
       "      <td>2.083585</td>\n",
       "      <td>1.041466</td>\n",
       "      <td>9.870672</td>\n",
       "      <td>4.781568</td>\n",
       "      <td>1.983996</td>\n",
       "      <td>2.408273</td>\n",
       "      <td>1.189445</td>\n",
       "    </tr>\n",
       "    <tr>\n",
       "      <th>9999</th>\n",
       "      <td>3.697625</td>\n",
       "      <td>3.391883</td>\n",
       "      <td>2.197869</td>\n",
       "      <td>9.116229</td>\n",
       "      <td>4.781568</td>\n",
       "      <td>0.000000</td>\n",
       "      <td>2.693117</td>\n",
       "      <td>1.779685</td>\n",
       "    </tr>\n",
       "  </tbody>\n",
       "</table>\n",
       "<p>10000 rows × 8 columns</p>\n",
       "</div>"
      ],
      "text/plain": [
       "      Children       Age    Income  VitD_levels  Doc_visits  Full_meals_eaten  \\\n",
       "0     0.462203  2.568140  3.035651     9.489455    5.737881          0.000000   \n",
       "1     1.386609  2.471229  1.641179     9.389752    3.825254          1.983996   \n",
       "2     1.386609  2.568140  0.503867     8.952078    3.825254          0.991998   \n",
       "3     0.000000  3.779526  1.393474     8.218041    3.825254          0.991998   \n",
       "4     0.462203  1.066020  0.042411     8.645485    4.781568          0.000000   \n",
       "...        ...       ...       ...          ...         ...               ...   \n",
       "9995  0.924406  1.211387  1.611783     8.418326    3.825254          1.983996   \n",
       "9996  1.848813  4.215626  0.525356     9.011327    4.781568          0.000000   \n",
       "9997  1.386609  2.180496  2.311306     8.491802    3.825254          1.983996   \n",
       "9998  1.386609  2.083585  1.041466     9.870672    4.781568          1.983996   \n",
       "9999  3.697625  3.391883  2.197869     9.116229    4.781568          0.000000   \n",
       "\n",
       "      Initial_days  Additional_charges  \n",
       "0         0.402378            2.742074  \n",
       "1         0.575093            2.692183  \n",
       "2         0.181396            2.675704  \n",
       "3         0.065185            1.986073  \n",
       "4         0.047697            0.568079  \n",
       "...            ...                 ...  \n",
       "9995      1.959905            1.364608  \n",
       "9996      2.610163            4.357376  \n",
       "9997      2.666646            2.335764  \n",
       "9998      2.408273            1.189445  \n",
       "9999      2.693117            1.779685  \n",
       "\n",
       "[10000 rows x 8 columns]"
      ]
     },
     "execution_count": 47,
     "metadata": {},
     "output_type": "execute_result"
    }
   ],
   "source": [
    "#Normalize data and store it in a new variable\n",
    "scaled_data = pd.DataFrame( data = whiten(obs = df, check_finite = True), columns = df.columns)\n",
    "scaled_data"
   ]
  },
  {
   "cell_type": "code",
   "execution_count": 48,
   "metadata": {},
   "outputs": [
    {
     "data": {
      "image/png": "[encoded data removed]",
      "text/plain": [
       "<Figure size 640x480 with 1 Axes>"
      ]
     },
     "metadata": {},
     "output_type": "display_data"
    }
   ],
   "source": [
    "#Plot original data\n",
    "plt.plot(df, label='original')\n",
    "plt.legend()\n",
    "plt.show()\n"
   ]
  },
  {
   "cell_type": "code",
   "execution_count": 49,
   "metadata": {},
   "outputs": [
    {
     "data": {
      "image/png": "[encoded data removed]",
      "text/plain": [
       "<Figure size 640x480 with 1 Axes>"
      ]
     },
     "metadata": {},
     "output_type": "display_data"
    }
   ],
   "source": [
    "# Plot scaled data\n",
    "plt.plot(scaled_data, label = 'scaled')\n",
    "plt.legend()\n",
    "plt.show()"
   ]
  },
  {
   "cell_type": "code",
   "execution_count": 50,
   "metadata": {},
   "outputs": [
    {
     "name": "stdout",
     "output_type": "stream",
     "text": [
      "['Children', 1.0000500037503124]\n",
      "['Age', 1.0000500037503124]\n",
      "['Income', 1.0000500037503124]\n",
      "['VitD_levels', 1.0000500037503124]\n",
      "['Doc_visits', 1.0000500037503124]\n",
      "['Full_meals_eaten', 1.0000500037503126]\n",
      "['Initial_days', 1.0000500037503124]\n",
      "['Additional_charges', 1.0000500037503124]\n"
     ]
    }
   ],
   "source": [
    "#Sanity check to make sure the standard deviation is the same, aka the data is normalized\n",
    "for i in scaled_data.columns:\n",
    "    print([i, scaled_data[i].std()])"
   ]
  },
  {
   "cell_type": "code",
   "execution_count": 51,
   "metadata": {},
   "outputs": [
    {
     "data": {
      "text/html": [
       "<div>\n",
       "<style scoped>\n",
       "    .dataframe tbody tr th:only-of-type {\n",
       "        vertical-align: middle;\n",
       "    }\n",
       "\n",
       "    .dataframe tbody tr th {\n",
       "        vertical-align: top;\n",
       "    }\n",
       "\n",
       "    .dataframe thead th {\n",
       "        text-align: right;\n",
       "    }\n",
       "</style>\n",
       "<table border=\"1\" class=\"dataframe\">\n",
       "  <thead>\n",
       "    <tr style=\"text-align: right;\">\n",
       "      <th></th>\n",
       "      <th>Children</th>\n",
       "      <th>Age</th>\n",
       "      <th>Income</th>\n",
       "      <th>VitD_levels</th>\n",
       "      <th>Doc_visits</th>\n",
       "      <th>Full_meals_eaten</th>\n",
       "      <th>Initial_days</th>\n",
       "      <th>Additional_charges</th>\n",
       "    </tr>\n",
       "  </thead>\n",
       "  <tbody>\n",
       "    <tr>\n",
       "      <th>count</th>\n",
       "      <td>10000.000000</td>\n",
       "      <td>10000.000000</td>\n",
       "      <td>10000.000000</td>\n",
       "      <td>10000.000000</td>\n",
       "      <td>10000.000000</td>\n",
       "      <td>10000.000000</td>\n",
       "      <td>10000.000000</td>\n",
       "      <td>10000.000000</td>\n",
       "    </tr>\n",
       "    <tr>\n",
       "      <th>mean</th>\n",
       "      <td>0.969332</td>\n",
       "      <td>2.592934</td>\n",
       "      <td>1.419736</td>\n",
       "      <td>8.905851</td>\n",
       "      <td>4.793235</td>\n",
       "      <td>0.993387</td>\n",
       "      <td>1.309688</td>\n",
       "      <td>1.977069</td>\n",
       "    </tr>\n",
       "    <tr>\n",
       "      <th>std</th>\n",
       "      <td>1.000050</td>\n",
       "      <td>1.000050</td>\n",
       "      <td>1.000050</td>\n",
       "      <td>1.000050</td>\n",
       "      <td>1.000050</td>\n",
       "      <td>1.000050</td>\n",
       "      <td>1.000050</td>\n",
       "      <td>1.000050</td>\n",
       "    </tr>\n",
       "    <tr>\n",
       "      <th>min</th>\n",
       "      <td>0.000000</td>\n",
       "      <td>0.872198</td>\n",
       "      <td>0.005403</td>\n",
       "      <td>4.861601</td>\n",
       "      <td>0.956314</td>\n",
       "      <td>0.000000</td>\n",
       "      <td>0.038087</td>\n",
       "      <td>0.477770</td>\n",
       "    </tr>\n",
       "    <tr>\n",
       "      <th>25%</th>\n",
       "      <td>0.000000</td>\n",
       "      <td>1.744397</td>\n",
       "      <td>0.687201</td>\n",
       "      <td>8.242621</td>\n",
       "      <td>3.825254</td>\n",
       "      <td>0.000000</td>\n",
       "      <td>0.300145</td>\n",
       "      <td>1.220751</td>\n",
       "    </tr>\n",
       "    <tr>\n",
       "      <th>50%</th>\n",
       "      <td>0.462203</td>\n",
       "      <td>2.568140</td>\n",
       "      <td>1.184037</td>\n",
       "      <td>8.899338</td>\n",
       "      <td>4.781568</td>\n",
       "      <td>0.991998</td>\n",
       "      <td>1.362179</td>\n",
       "      <td>1.769106</td>\n",
       "    </tr>\n",
       "    <tr>\n",
       "      <th>75%</th>\n",
       "      <td>1.386609</td>\n",
       "      <td>3.440338</td>\n",
       "      <td>1.903819</td>\n",
       "      <td>9.591826</td>\n",
       "      <td>5.737881</td>\n",
       "      <td>1.983996</td>\n",
       "      <td>2.324805</td>\n",
       "      <td>2.388541</td>\n",
       "    </tr>\n",
       "    <tr>\n",
       "      <th>max</th>\n",
       "      <td>4.622031</td>\n",
       "      <td>4.312537</td>\n",
       "      <td>7.266868</td>\n",
       "      <td>13.085149</td>\n",
       "      <td>8.606822</td>\n",
       "      <td>6.943986</td>\n",
       "      <td>2.736104</td>\n",
       "      <td>4.672086</td>\n",
       "    </tr>\n",
       "  </tbody>\n",
       "</table>\n",
       "</div>"
      ],
      "text/plain": [
       "           Children           Age        Income   VitD_levels    Doc_visits  \\\n",
       "count  10000.000000  10000.000000  10000.000000  10000.000000  10000.000000   \n",
       "mean       0.969332      2.592934      1.419736      8.905851      4.793235   \n",
       "std        1.000050      1.000050      1.000050      1.000050      1.000050   \n",
       "min        0.000000      0.872198      0.005403      4.861601      0.956314   \n",
       "25%        0.000000      1.744397      0.687201      8.242621      3.825254   \n",
       "50%        0.462203      2.568140      1.184037      8.899338      4.781568   \n",
       "75%        1.386609      3.440338      1.903819      9.591826      5.737881   \n",
       "max        4.622031      4.312537      7.266868     13.085149      8.606822   \n",
       "\n",
       "       Full_meals_eaten  Initial_days  Additional_charges  \n",
       "count      10000.000000  10000.000000        10000.000000  \n",
       "mean           0.993387      1.309688            1.977069  \n",
       "std            1.000050      1.000050            1.000050  \n",
       "min            0.000000      0.038087            0.477770  \n",
       "25%            0.000000      0.300145            1.220751  \n",
       "50%            0.991998      1.362179            1.769106  \n",
       "75%            1.983996      2.324805            2.388541  \n",
       "max            6.943986      2.736104            4.672086  "
      ]
     },
     "execution_count": 51,
     "metadata": {},
     "output_type": "execute_result"
    }
   ],
   "source": [
    "scaled_data.describe()"
   ]
  },
  {
   "cell_type": "code",
   "execution_count": 52,
   "metadata": {},
   "outputs": [],
   "source": [
    "scaled_data.to_csv('E:/HDD Documents/HDD Documents/School/WGU/d212_data_mining_ii/scaled_data.csv')"
   ]
  },
  {
   "cell_type": "code",
   "execution_count": 53,
   "metadata": {},
   "outputs": [
    {
     "data": {
      "text/plain": [
       "(array([[0.91187868, 1.62639173, 1.45002638, 8.88547498, 4.79566458,\n",
       "         0.96935617, 1.27302015, 1.16459101],\n",
       "        [0.98831587, 3.30334677, 1.38994603, 8.93691575, 4.80922827,\n",
       "         1.03328758, 0.34338677, 2.58377219],\n",
       "        [1.03281082, 3.28616167, 1.40522344, 8.90505246, 4.77445757,\n",
       "         0.98931608, 2.28761518, 2.55066817]]),\n",
       " 2.403353941313717)"
      ]
     },
     "execution_count": 53,
     "metadata": {},
     "output_type": "execute_result"
    }
   ],
   "source": [
    "# Compute cluster centers\n",
    "kmeans_whiten = kmeans(obs = scaled_data, k_or_guess = 3, iter = 20, check_finite = True)\n",
    "kmeans_whiten"
   ]
  },
  {
   "cell_type": "code",
   "execution_count": 54,
   "metadata": {},
   "outputs": [
    {
     "name": "stdout",
     "output_type": "stream",
     "text": [
      "[1 1 1 ... 2 0 2]\n",
      "[2.40615593 1.7483505  1.57769959 ... 2.10229742 1.97257158 3.08592583]\n"
     ]
    }
   ],
   "source": [
    "# Generate cluster centers and labels\n",
    "centroid_numeric, label_numeric = kmeans_whiten\n",
    "code_numeric, dist_numeric = vq( obs = scaled_data, code_book = centroid_numeric, check_finite = True)\n",
    "print(code_numeric)\n",
    "print(dist_numeric)"
   ]
  },
  {
   "cell_type": "code",
   "execution_count": 55,
   "metadata": {},
   "outputs": [
    {
     "name": "stdout",
     "output_type": "stream",
     "text": [
      "[[0.9890528  3.62674695 1.41415067 8.90797075 4.82695389 1.03741617\n",
      "  1.29474433 2.97831933]\n",
      " [0.9236841  1.99262508 1.44137339 8.90260814 4.77618844 0.9718481\n",
      "  0.34241769 1.40294038]\n",
      " [0.99277444 2.03913494 1.40443803 8.9067175  4.77265241 0.9657955\n",
      "  2.28818109 1.43348104]]\n"
     ]
    }
   ],
   "source": [
    "# Find 5 clusters in the data\n",
    "code_book, distortion = kmeans(scaled_data, 3)\n",
    "print(code_book)\n"
   ]
  },
  {
   "cell_type": "code",
   "execution_count": 56,
   "metadata": {},
   "outputs": [
    {
     "name": "stdout",
     "output_type": "stream",
     "text": [
      "   Children       Age    Income  VitD_levels  Doc_visits  Full_meals_eaten  \\\n",
      "0  0.989053  3.626747  1.414151     8.907971    4.826954          1.037416   \n",
      "1  0.923684  1.992625  1.441373     8.902608    4.776188          0.971848   \n",
      "2  0.992774  2.039135  1.404438     8.906718    4.772652          0.965796   \n",
      "\n",
      "   Initial_days  Additional_charges  \n",
      "0      1.294744            2.978319  \n",
      "1      0.342418            1.402940  \n",
      "2      2.288181            1.433481  \n"
     ]
    }
   ],
   "source": [
    "#Convert the codebook array to a dataframe for visualization\n",
    "df_codebook = pd.DataFrame(code_book, columns = ['Children', 'Age', 'Income', 'VitD_levels', 'Doc_visits', 'Full_meals_eaten', 'Initial_days', 'Additional_charges'])\n",
    "print(df_codebook)"
   ]
  },
  {
   "cell_type": "code",
   "execution_count": 62,
   "metadata": {},
   "outputs": [
    {
     "name": "stderr",
     "output_type": "stream",
     "text": [
      "No artists with labels found to put in legend.  Note that artists whose label start with an underscore are ignored when legend() is called with no argument.\n"
     ]
    },
    {
     "data": {
      "image/png": "[encoded data removed]",
      "text/plain": [
       "<Figure size 640x480 with 1 Axes>"
      ]
     },
     "metadata": {},
     "output_type": "display_data"
    }
   ],
   "source": [
    "plt.scatter(scaled_data.iloc[:, 0], scaled_data.iloc[:, 7])\n",
    "plt.scatter(df_codebook.iloc[:, 0], df_codebook.iloc[:, 7], c='r')\n",
    "plt.legend()\n",
    "plt.show()\n"
   ]
  },
  {
   "cell_type": "code",
   "execution_count": 58,
   "metadata": {},
   "outputs": [],
   "source": [
    "#Elbow method: Declaring variables for use\n",
    "distortions = []\n",
    "num_cluster = range(1, 10)"
   ]
  },
  {
   "cell_type": "code",
   "execution_count": 59,
   "metadata": {},
   "outputs": [],
   "source": [
    "#Populating distortions for various clusters\n",
    "for i in num_cluster:\n",
    "    centoids, distortion = kmeans(scaled_data, i)\n",
    "    distortions.append(distortion)"
   ]
  },
  {
   "cell_type": "code",
   "execution_count": 60,
   "metadata": {},
   "outputs": [
    {
     "data": {
      "image/png": "[encoded data removed]",
      "text/plain": [
       "<Figure size 640x480 with 1 Axes>"
      ]
     },
     "metadata": {},
     "output_type": "display_data"
    }
   ],
   "source": [
    "#Plotting elbow plot data\n",
    "elbow_plot_data = pd.DataFrame({'num_cluster': num_cluster, 'distortions': distortions})\n",
    "sns.lineplot(x = 'num_cluster', y = 'distortions', data = elbow_plot_data)\n",
    "plt.show()"
   ]
  }
 ],
 "metadata": {
  "kernelspec": {
   "display_name": "Python 3.11.0 64-bit",
   "language": "python",
   "name": "python3"
  },
  "language_info": {
   "codemirror_mode": {
    "name": "ipython",
    "version": 3
   },
   "file_extension": ".py",
   "mimetype": "text/x-python",
   "name": "python",
   "nbconvert_exporter": "python",
   "pygments_lexer": "ipython3",
   "version": "3.11.0 (main, Oct 24 2022, 18:26:48) [MSC v.1933 64 bit (AMD64)]"
  },
  "orig_nbformat": 4,
  "vscode": {
   "interpreter": {
    "hash": "811bbdf3489093e57429da9e6c98da378eba9c58dc1a87ca0c761486bd09ff45"
   }
  }
 },
 "nbformat": 4,
 "nbformat_minor": 2
}
