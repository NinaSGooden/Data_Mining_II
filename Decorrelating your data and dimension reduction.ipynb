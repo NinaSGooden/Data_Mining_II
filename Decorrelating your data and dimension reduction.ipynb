{
 "cells": [
  {
   "cell_type": "code",
   "execution_count": null,
   "metadata": {},
   "outputs": [],
   "source": []
  }
 ],
 "metadata": {
  "kernelspec": {
   "display_name": "Python 3",
   "language": "python",
   "name": "python3"
  },
  "language_info": {
   "name": "python",
   "version": "3.11.0 (main, Oct 24 2022, 18:26:48) [MSC v.1933 64 bit (AMD64)]"
  },
  "orig_nbformat": 4,
  "vscode": {
   "interpreter": {
    "hash": "811bbdf3489093e57429da9e6c98da378eba9c58dc1a87ca0c761486bd09ff45"
   }
  }
 },
 "nbformat": 4,
 "nbformat_minor": 2
}
